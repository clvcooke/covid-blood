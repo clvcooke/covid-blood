{
 "cells": [
  {
   "cell_type": "code",
   "execution_count": 2,
   "metadata": {},
   "outputs": [],
   "source": [
    "import numpy as np\n",
    "import matplotlib.pyplot as plt\n",
    "import os\n",
    "import glob\n",
    "import json"
   ]
  },
  {
   "cell_type": "code",
   "execution_count": 5,
   "metadata": {},
   "outputs": [],
   "source": [
    "cell_types_li = ['basophil',\n",
    " 'eosinophil',\n",
    " 'erythroblast',\n",
    " 'garbage',\n",
    " 'ig',\n",
    " 'lymphocyte',\n",
    " 'monocyte',\n",
    " 'neutrophil',\n",
    " 'platelet']\n",
    "\n",
    "wbc_file = '/home/colin/testing/wbc_class_1dr34rc5.json'\n",
    "with open(wbc_file) as fp:\n",
    "    wbc_data_inds = json.load(fp)\n",
    "wbc_data = {path: cell_types_li[ind] for path, ind in wbc_data_inds.items()}"
   ]
  },
  {
   "cell_type": "code",
   "execution_count": 9,
   "metadata": {},
   "outputs": [],
   "source": [
    "wbc_dist = {cell_type: 0 for cell_type in cell_types_li}\n",
    "for cell_type in wbc_data.values():\n",
    "    wbc_dist[cell_type] += 1"
   ]
  },
  {
   "cell_type": "code",
   "execution_count": 15,
   "metadata": {},
   "outputs": [],
   "source": [
    "x_data = np.arange(0, len(wbc_dist))\n",
    "y_data = np.array(list(wbc_dist.values()))"
   ]
  },
  {
   "cell_type": "code",
   "execution_count": 24,
   "metadata": {},
   "outputs": [],
   "source": [
    "total = sum(y_data)"
   ]
  },
  {
   "cell_type": "code",
   "execution_count": 30,
   "metadata": {},
   "outputs": [
    {
     "data": {
      "text/plain": [
       "([<matplotlib.axis.XTick at 0x7f7e6bf3ba00>,\n",
       "  <matplotlib.axis.XTick at 0x7f7e6bf3b610>,\n",
       "  <matplotlib.axis.XTick at 0x7f7e6be754c0>,\n",
       "  <matplotlib.axis.XTick at 0x7f7e6be34820>,\n",
       "  <matplotlib.axis.XTick at 0x7f7e6be34d30>,\n",
       "  <matplotlib.axis.XTick at 0x7f7e6be3d280>,\n",
       "  <matplotlib.axis.XTick at 0x7f7e6be3d790>,\n",
       "  <matplotlib.axis.XTick at 0x7f7e6be3dca0>,\n",
       "  <matplotlib.axis.XTick at 0x7f7e6be421f0>],\n",
       " <a list of 9 Text xticklabel objects>)"
      ]
     },
     "execution_count": 30,
     "metadata": {},
     "output_type": "execute_result"
    },
    {
     "data": {
      "image/png": "[encoded data removed]",
      "text/plain": [
       "<Figure size 432x288 with 1 Axes>"
      ]
     },
     "metadata": {
      "needs_background": "light"
     },
     "output_type": "display_data"
    }
   ],
   "source": [
    "plt.title(\"White Blood Cell Type Distribution\")\n",
    "plt.bar(x_data, y_data)\n",
    "plt.ylabel(\"Cell Count\")\n",
    "plt.xticks(x_data, list(wbc_dist.keys()), rotation=45)"
   ]
  },
  {
   "cell_type": "code",
   "execution_count": 27,
   "metadata": {},
   "outputs": [
    {
     "data": {
      "text/plain": [
       "[('neutrophil', 12874),\n",
       " ('garbage', 2901),\n",
       " ('platelet', 2507),\n",
       " ('lymphocyte', 1889),\n",
       " ('ig', 1574),\n",
       " ('monocyte', 929),\n",
       " ('basophil', 836),\n",
       " ('erythroblast', 758),\n",
       " ('eosinophil', 253)]"
      ]
     },
     "execution_count": 27,
     "metadata": {},
     "output_type": "execute_result"
    }
   ],
   "source": [
    "sorted(wbc_dist.items(), key=lambda x: x[1])[::-1]"
   ]
  },
  {
   "cell_type": "code",
   "execution_count": null,
   "metadata": {},
   "outputs": [],
   "source": [
    "plt.bar(np.arange(len(wbc_dist)), wbc_dist.values())"
   ]
  }
 ],
 "metadata": {
  "kernelspec": {
   "display_name": "Python 3",
   "language": "python",
   "name": "python3"
  },
  "language_info": {
   "codemirror_mode": {
    "name": "ipython",
    "version": 3
   },
   "file_extension": ".py",
   "mimetype": "text/x-python",
   "name": "python",
   "nbconvert_exporter": "python",
   "pygments_lexer": "ipython3",
   "version": "3.8.3"
  }
 },
 "nbformat": 4,
 "nbformat_minor": 4
}
