{
 "cells": [
  {
   "cell_type": "code",
   "execution_count": 1,
   "metadata": {},
   "outputs": [],
   "source": [
    "from ipywidgets import interact, interactive, fixed, interact_manual, VBox, HBox\n",
    "import ipywidgets as widgets\n",
    "import json\n",
    "import os\n",
    "import matplotlib.pyplot as plt\n",
    "import shutil\n",
    "from tqdm import tqdm\n",
    "import glob\n",
    "cell_types_li = ['basophil', 'eosinophil', 'erythroblast', 'garbage', 'ig', 'lymphocyte', 'monocyte', 'neutrophil', 'platelet']"
   ]
  },
  {
   "cell_type": "code",
   "execution_count": 2,
   "metadata": {},
   "outputs": [],
   "source": [
    "src_json = '/home/colin/testing/wbc_class_1dr34rc5.json'\n",
    "with open(src_json) as fp:\n",
    "    src_data = json.load(fp)\n",
    "# creating a new JSON file that is the opposite\n",
    "sorted_data = {}\n",
    "for key, value in src_data.items():\n",
    "    cell_type = cell_types_li[value]\n",
    "    if cell_type not in sorted_data:\n",
    "        sorted_data[cell_type] = []\n",
    "    sorted_data[cell_type].append(key)\n",
    "reviewed_cells = {cell_type:[] for cell_type in cell_types_li}"
   ]
  },
  {
   "cell_type": "code",
   "execution_count": null,
   "metadata": {},
   "outputs": [],
   "source": [
    "counter"
   ]
  },
  {
   "cell_type": "code",
   "execution_count": 9,
   "metadata": {},
   "outputs": [],
   "source": [
    "\n",
    "for TYPE in cell_types_li:\n",
    "    counter = 0\n",
    "    for cell in sorted_data[TYPE]:\n",
    "        base_dir = f'/home/colin/review_rev3/{TYPE}_{1 + counter//1000}'\n",
    "        counter += 1\n",
    "        os.makedirs(base_dir, exist_ok=True)\n",
    "        new_path = os.path.join(base_dir, os.path.basename(cell))\n",
    "        if os.path.exists(new_path):\n",
    "            continue\n",
    "        shutil.copy2(cell, new_path)"
   ]
  },
  {
   "cell_type": "code",
   "execution_count": 6,
   "metadata": {},
   "outputs": [],
   "source": [
    "for TYPE in cell_types_li:\n",
    "    base_dir = f'/home/colin/review_rev2/{TYPE}'\n",
    "    os.makedirs(base_dir, exist_ok=True)\n",
    "    for cell in sorted_data[TYPE]:\n",
    "        new_path = os.path.join(base_dir, os.path.basename(cell))\n",
    "        if os.path.exists(new_path):\n",
    "            continue\n",
    "        shutil.copy2(cell, new_path)"
   ]
  },
  {
   "cell_type": "code",
   "execution_count": 128,
   "metadata": {},
   "outputs": [],
   "source": [
    "# for now we will filter away cell types which are in BOTH (only overlap)\n",
    "colin_platelets = set([os.path.basename(f) for f in glob.glob('/home/colin/testing/plate/*.jpg')])\n",
    "xing_platelets = set([os.path.basename(f) for f in glob.glob('/home/colin/from_xing/*.jpg')])\n",
    "good_platelets = colin_platelets.intersection(xing_platelets)\n",
    "\n",
    "colin_garbage = set([os.path.basename(f) for f in glob.glob('/home/colin/for_sam/garbage/*.jpg')])\n",
    "sam_garbage = set([os.path.basename(f) for f in glob.glob('/home/colin/from_sam/garbage/*.jpg')])\n",
    "good_garbage = colin_garbage.intersection(sam_garbage)"
   ]
  },
  {
   "cell_type": "code",
   "execution_count": 129,
   "metadata": {},
   "outputs": [],
   "source": [
    "bad_garbage = [os.path.basename(file) for file in sorted_data['garbage'] if os.path.basename(file) not in good_garbage]"
   ]
  },
  {
   "cell_type": "code",
   "execution_count": 132,
   "metadata": {},
   "outputs": [],
   "source": [
    "bad_plates = [os.path.basename(file) for file in sorted_data['platelet'] if os.path.basename(file) not in good_platelets]"
   ]
  },
  {
   "cell_type": "code",
   "execution_count": 142,
   "metadata": {},
   "outputs": [],
   "source": [
    "# now use those two sets to make an exclusion list\n",
    "exclusion_list = list(good_platelets)\n",
    "with open('/home/colin/testing/exclusion.json', 'w') as fp:\n",
    "    json.dump(exclusion_list, fp)"
   ]
  },
  {
   "cell_type": "code",
   "execution_count": 140,
   "metadata": {},
   "outputs": [
    {
     "name": "stdout",
     "output_type": "stream",
     "text": [
      "0.5396449704142012\n",
      "845\n",
      "456\n"
     ]
    }
   ],
   "source": [
    "print(1 - len(bad_garbage)/len(sorted_data['garbage']))\n",
    "print(len(sorted_data['garbage']))\n",
    "print(len(sorted_data['garbage']) - len(bad_garbage))"
   ]
  },
  {
   "cell_type": "code",
   "execution_count": 139,
   "metadata": {},
   "outputs": [
    {
     "name": "stdout",
     "output_type": "stream",
     "text": [
      "0.8951791242812914\n",
      "2261\n",
      "2024\n"
     ]
    }
   ],
   "source": [
    "print(1 - len(bad_plates)/len(sorted_data['platelet']))\n",
    "print(len(sorted_data['platelet']))\n",
    "print(len(sorted_data['platelet']) - len(bad_plates))\n"
   ]
  }
 ],
 "metadata": {
  "kernelspec": {
   "display_name": "Python 3",
   "language": "python",
   "name": "python3"
  },
  "language_info": {
   "codemirror_mode": {
    "name": "ipython",
    "version": 3
   },
   "file_extension": ".py",
   "mimetype": "text/x-python",
   "name": "python",
   "nbconvert_exporter": "python",
   "pygments_lexer": "ipython3",
   "version": "3.8.3"
  }
 },
 "nbformat": 4,
 "nbformat_minor": 4
}
