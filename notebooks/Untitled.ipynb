{
 "cells": [
  {
   "cell_type": "code",
   "execution_count": 41,
   "metadata": {},
   "outputs": [],
   "source": [
    "import glob"
   ]
  },
  {
   "cell_type": "code",
   "execution_count": 58,
   "metadata": {},
   "outputs": [],
   "source": [
    "import shutil\n",
    "import os"
   ]
  },
  {
   "cell_type": "code",
   "execution_count": 63,
   "metadata": {},
   "outputs": [],
   "source": [
    "patients = glob.glob('/hddraid5/data/colin/covid-data/garbage_proc/done/*/garbage')"
   ]
  },
  {
   "cell_type": "code",
   "execution_count": 82,
   "metadata": {},
   "outputs": [
    {
     "name": "stdout",
     "output_type": "stream",
     "text": [
      "2562 done\n",
      "0.9891891891891892 done\n",
      "28 remain\n"
     ]
    }
   ],
   "source": [
    "todo = len(glob.glob('/hddraid5/data/colin/covid-data/garbage_proc/todo/placeholder/*.jpg'))\n",
    "done = len(glob.glob('/hddraid5/data/colin/covid-data/garbage_proc/done/placeholder/*/*.jpg'))\n",
    "print(f\"{done} done\")\n",
    "print(f\"{done/(done + todo)} done\")\n",
    "print(f\"{todo} remain\")"
   ]
  },
  {
   "cell_type": "code",
   "execution_count": 70,
   "metadata": {},
   "outputs": [],
   "source": [
    "patient_holder = 'placeholder'\n",
    "new_folder = os.path.join('/hddraid5/data/colin/covid-data/garbage_proc/todo', patient_holder)\n",
    "os.makedirs(new_folder, exist_ok=True)\n",
    "for patient in patients:\n",
    "    images = glob.glob(os.path.join(patient, '*.jpg'))\n",
    "    for image in images:\n",
    "        new_path = os.path.join(new_folder, os.path.basename(image))\n",
    "        shutil.copy2(image, new_path)"
   ]
  },
  {
   "cell_type": "code",
   "execution_count": 66,
   "metadata": {},
   "outputs": [
    {
     "data": {
      "text/plain": [
       "['/hddraid5/data/colin/covid-data/garbage_proc/done/10049500616/garbage/10049500616_129.jpg',\n",
       " '/hddraid5/data/colin/covid-data/garbage_proc/done/10049500616/garbage/10049500616_073.jpg',\n",
       " '/hddraid5/data/colin/covid-data/garbage_proc/done/10049500616/garbage/10049500616_036.jpg',\n",
       " '/hddraid5/data/colin/covid-data/garbage_proc/done/10049500616/garbage/10049500616_069.jpg',\n",
       " '/hddraid5/data/colin/covid-data/garbage_proc/done/10049500616/garbage/10049500616_027.jpg',\n",
       " '/hddraid5/data/colin/covid-data/garbage_proc/done/10049500616/garbage/10049500616_137.jpg',\n",
       " '/hddraid5/data/colin/covid-data/garbage_proc/done/10049500616/garbage/10049500616_015.jpg',\n",
       " '/hddraid5/data/colin/covid-data/garbage_proc/done/10049500616/garbage/10049500616_130.jpg',\n",
       " '/hddraid5/data/colin/covid-data/garbage_proc/done/10049500616/garbage/10049500616_047.jpg',\n",
       " '/hddraid5/data/colin/covid-data/garbage_proc/done/10049500616/garbage/10049500616_131.jpg',\n",
       " '/hddraid5/data/colin/covid-data/garbage_proc/done/10049500616/garbage/10049500616_037.jpg',\n",
       " '/hddraid5/data/colin/covid-data/garbage_proc/done/10049500616/garbage/10049500616_018.jpg',\n",
       " '/hddraid5/data/colin/covid-data/garbage_proc/done/10049500616/garbage/10049500616_087.jpg',\n",
       " '/hddraid5/data/colin/covid-data/garbage_proc/done/10049500616/garbage/10049500616_011.jpg',\n",
       " '/hddraid5/data/colin/covid-data/garbage_proc/done/10049500616/garbage/10049500616_136.jpg',\n",
       " '/hddraid5/data/colin/covid-data/garbage_proc/done/10049500616/garbage/10049500616_077.jpg',\n",
       " '/hddraid5/data/colin/covid-data/garbage_proc/done/10049500616/garbage/10049500616_014.jpg',\n",
       " '/hddraid5/data/colin/covid-data/garbage_proc/done/10049500616/garbage/10049500616_111.jpg',\n",
       " '/hddraid5/data/colin/covid-data/garbage_proc/done/10049500616/garbage/10049500616_003.jpg',\n",
       " '/hddraid5/data/colin/covid-data/garbage_proc/done/10049500616/garbage/10049500616_100.jpg',\n",
       " '/hddraid5/data/colin/covid-data/garbage_proc/done/10049500616/garbage/10049500616_020.jpg',\n",
       " '/hddraid5/data/colin/covid-data/garbage_proc/done/10049500616/garbage/10049500616_103.jpg']"
      ]
     },
     "execution_count": 66,
     "metadata": {},
     "output_type": "execute_result"
    }
   ],
   "source": [
    "images"
   ]
  },
  {
   "cell_type": "code",
   "execution_count": 64,
   "metadata": {},
   "outputs": [
    {
     "data": {
      "text/plain": [
       "['/hddraid5/data/colin/covid-data/garbage_proc/done/10049500616/garbage',\n",
       " '/hddraid5/data/colin/covid-data/garbage_proc/done/10049403826/garbage',\n",
       " '/hddraid5/data/colin/covid-data/garbage_proc/done/10049491511/garbage',\n",
       " '/hddraid5/data/colin/covid-data/garbage_proc/done/10049377406/garbage',\n",
       " '/hddraid5/data/colin/covid-data/garbage_proc/done/10049501687/garbage',\n",
       " '/hddraid5/data/colin/covid-data/garbage_proc/done/10049404062/garbage',\n",
       " '/hddraid5/data/colin/covid-data/garbage_proc/done/10049501314/garbage',\n",
       " '/hddraid5/data/colin/covid-data/garbage_proc/done/10049501515/garbage',\n",
       " '/hddraid5/data/colin/covid-data/garbage_proc/done/10049501693/garbage',\n",
       " '/hddraid5/data/colin/covid-data/garbage_proc/done/10049391647/garbage',\n",
       " '/hddraid5/data/colin/covid-data/garbage_proc/done/10049315976/garbage',\n",
       " '/hddraid5/data/colin/covid-data/garbage_proc/done/10049502154/garbage',\n",
       " '/hddraid5/data/colin/covid-data/garbage_proc/done/10049502100/garbage',\n",
       " '/hddraid5/data/colin/covid-data/garbage_proc/done/10049345546/garbage',\n",
       " '/hddraid5/data/colin/covid-data/garbage_proc/done/10049409822/garbage',\n",
       " '/hddraid5/data/colin/covid-data/garbage_proc/done/10049385175/garbage',\n",
       " '/hddraid5/data/colin/covid-data/garbage_proc/done/10049501529/garbage',\n",
       " '/hddraid5/data/colin/covid-data/garbage_proc/done/10049381329/garbage',\n",
       " '/hddraid5/data/colin/covid-data/garbage_proc/done/10049376030/garbage',\n",
       " '/hddraid5/data/colin/covid-data/garbage_proc/done/10049501802/garbage',\n",
       " '/hddraid5/data/colin/covid-data/garbage_proc/done/10049501416/garbage',\n",
       " '/hddraid5/data/colin/covid-data/garbage_proc/done/10049491019/garbage',\n",
       " '/hddraid5/data/colin/covid-data/garbage_proc/done/10049501646/garbage',\n",
       " '/hddraid5/data/colin/covid-data/garbage_proc/done/10049396974/garbage',\n",
       " '/hddraid5/data/colin/covid-data/garbage_proc/done/10049379686/garbage',\n",
       " '/hddraid5/data/colin/covid-data/garbage_proc/done/10049502156/garbage',\n",
       " '/hddraid5/data/colin/covid-data/garbage_proc/done/10049487340/garbage',\n",
       " '/hddraid5/data/colin/covid-data/garbage_proc/done/10049324574/garbage',\n",
       " '/hddraid5/data/colin/covid-data/garbage_proc/done/10049492968/garbage',\n",
       " '/hddraid5/data/colin/covid-data/garbage_proc/done/10049502116/garbage',\n",
       " '/hddraid5/data/colin/covid-data/garbage_proc/done/10049501875/garbage',\n",
       " '/hddraid5/data/colin/covid-data/garbage_proc/done/10049329281/garbage',\n",
       " '/hddraid5/data/colin/covid-data/garbage_proc/done/10049502215/garbage',\n",
       " '/hddraid5/data/colin/covid-data/garbage_proc/done/10049464917/garbage',\n",
       " '/hddraid5/data/colin/covid-data/garbage_proc/done/10049500891/garbage',\n",
       " '/hddraid5/data/colin/covid-data/garbage_proc/done/10049462978/garbage',\n",
       " '/hddraid5/data/colin/covid-data/garbage_proc/done/10049501828/garbage',\n",
       " '/hddraid5/data/colin/covid-data/garbage_proc/done/10049385053/garbage',\n",
       " '/hddraid5/data/colin/covid-data/garbage_proc/done/10049501511/garbage',\n",
       " '/hddraid5/data/colin/covid-data/garbage_proc/done/10049365482/garbage',\n",
       " '/hddraid5/data/colin/covid-data/garbage_proc/done/10049463479/garbage',\n",
       " '/hddraid5/data/colin/covid-data/garbage_proc/done/10049502406/garbage',\n",
       " '/hddraid5/data/colin/covid-data/garbage_proc/done/10049333203/garbage',\n",
       " '/hddraid5/data/colin/covid-data/garbage_proc/done/10049481045/garbage',\n",
       " '/hddraid5/data/colin/covid-data/garbage_proc/done/10049489758/garbage',\n",
       " '/hddraid5/data/colin/covid-data/garbage_proc/done/10049316177/garbage',\n",
       " '/hddraid5/data/colin/covid-data/garbage_proc/done/10049332633/garbage',\n",
       " '/hddraid5/data/colin/covid-data/garbage_proc/done/10049501538/garbage',\n",
       " '/hddraid5/data/colin/covid-data/garbage_proc/done/10049481303/garbage',\n",
       " '/hddraid5/data/colin/covid-data/garbage_proc/done/10049375938/garbage',\n",
       " '/hddraid5/data/colin/covid-data/garbage_proc/done/10049350916/garbage',\n",
       " '/hddraid5/data/colin/covid-data/garbage_proc/done/10049324995/garbage',\n",
       " '/hddraid5/data/colin/covid-data/garbage_proc/done/10049350365/garbage',\n",
       " '/hddraid5/data/colin/covid-data/garbage_proc/done/10049414507/garbage',\n",
       " '/hddraid5/data/colin/covid-data/garbage_proc/done/10049376321/garbage',\n",
       " '/hddraid5/data/colin/covid-data/garbage_proc/done/10049502585/garbage',\n",
       " '/hddraid5/data/colin/covid-data/garbage_proc/done/10049502524/garbage',\n",
       " '/hddraid5/data/colin/covid-data/garbage_proc/done/10049374259/garbage',\n",
       " '/hddraid5/data/colin/covid-data/garbage_proc/done/10049502724/garbage',\n",
       " '/hddraid5/data/colin/covid-data/garbage_proc/done/10049422699/garbage',\n",
       " '/hddraid5/data/colin/covid-data/garbage_proc/done/10049501657/garbage',\n",
       " '/hddraid5/data/colin/covid-data/garbage_proc/done/10049350567/garbage',\n",
       " '/hddraid5/data/colin/covid-data/garbage_proc/done/10049501769/garbage',\n",
       " '/hddraid5/data/colin/covid-data/garbage_proc/done/10049366433/garbage',\n",
       " '/hddraid5/data/colin/covid-data/garbage_proc/done/10049501673/garbage',\n",
       " '/hddraid5/data/colin/covid-data/garbage_proc/done/10049380641/garbage',\n",
       " '/hddraid5/data/colin/covid-data/garbage_proc/done/10049463692/garbage',\n",
       " '/hddraid5/data/colin/covid-data/garbage_proc/done/10049405483/garbage',\n",
       " '/hddraid5/data/colin/covid-data/garbage_proc/done/10049501408/garbage',\n",
       " '/hddraid5/data/colin/covid-data/garbage_proc/done/10049481322/garbage',\n",
       " '/hddraid5/data/colin/covid-data/garbage_proc/done/10049492138/garbage',\n",
       " '/hddraid5/data/colin/covid-data/garbage_proc/done/10049465324/garbage',\n",
       " '/hddraid5/data/colin/covid-data/garbage_proc/done/10049502558/garbage',\n",
       " '/hddraid5/data/colin/covid-data/garbage_proc/done/10049330894/garbage',\n",
       " '/hddraid5/data/colin/covid-data/garbage_proc/done/10049332852/garbage',\n",
       " '/hddraid5/data/colin/covid-data/garbage_proc/done/10049404369/garbage',\n",
       " '/hddraid5/data/colin/covid-data/garbage_proc/done/10049502684/garbage',\n",
       " '/hddraid5/data/colin/covid-data/garbage_proc/done/10049403221/garbage',\n",
       " '/hddraid5/data/colin/covid-data/garbage_proc/done/10049403339/garbage',\n",
       " '/hddraid5/data/colin/covid-data/garbage_proc/done/10049501936/garbage',\n",
       " '/hddraid5/data/colin/covid-data/garbage_proc/done/10049313137/garbage',\n",
       " '/hddraid5/data/colin/covid-data/garbage_proc/done/10049502964/garbage',\n",
       " '/hddraid5/data/colin/covid-data/garbage_proc/done/10049320321/garbage',\n",
       " '/hddraid5/data/colin/covid-data/garbage_proc/done/10049502289/garbage',\n",
       " '/hddraid5/data/colin/covid-data/garbage_proc/done/10049502431/garbage',\n",
       " '/hddraid5/data/colin/covid-data/garbage_proc/done/10049501348/garbage',\n",
       " '/hddraid5/data/colin/covid-data/garbage_proc/done/10049331857/garbage',\n",
       " '/hddraid5/data/colin/covid-data/garbage_proc/done/10049480941/garbage',\n",
       " '/hddraid5/data/colin/covid-data/garbage_proc/done/10049501747/garbage',\n",
       " '/hddraid5/data/colin/covid-data/garbage_proc/done/10049315042/garbage',\n",
       " '/hddraid5/data/colin/covid-data/garbage_proc/done/10049501633/garbage',\n",
       " '/hddraid5/data/colin/covid-data/garbage_proc/done/10049502204/garbage',\n",
       " '/hddraid5/data/colin/covid-data/garbage_proc/done/10049380667/garbage',\n",
       " '/hddraid5/data/colin/covid-data/garbage_proc/done/10049502478/garbage',\n",
       " '/hddraid5/data/colin/covid-data/garbage_proc/done/10049484222/garbage',\n",
       " '/hddraid5/data/colin/covid-data/garbage_proc/done/10049372414/garbage',\n",
       " '/hddraid5/data/colin/covid-data/garbage_proc/done/10049332626/garbage',\n",
       " '/hddraid5/data/colin/covid-data/garbage_proc/done/10049389176/garbage',\n",
       " '/hddraid5/data/colin/covid-data/garbage_proc/done/10049501568/garbage',\n",
       " '/hddraid5/data/colin/covid-data/garbage_proc/done/10049501805/garbage',\n",
       " '/hddraid5/data/colin/covid-data/garbage_proc/done/10049496932/garbage',\n",
       " '/hddraid5/data/colin/covid-data/garbage_proc/done/10049495201/garbage',\n",
       " '/hddraid5/data/colin/covid-data/garbage_proc/done/10049491776/garbage',\n",
       " '/hddraid5/data/colin/covid-data/garbage_proc/done/10049333364/garbage',\n",
       " '/hddraid5/data/colin/covid-data/garbage_proc/done/10049378872/garbage',\n",
       " '/hddraid5/data/colin/covid-data/garbage_proc/done/10049501465/garbage',\n",
       " '/hddraid5/data/colin/covid-data/garbage_proc/done/10049316306/garbage',\n",
       " '/hddraid5/data/colin/covid-data/garbage_proc/done/10049501846/garbage',\n",
       " '/hddraid5/data/colin/covid-data/garbage_proc/done/10049490553/garbage',\n",
       " '/hddraid5/data/colin/covid-data/garbage_proc/done/10049306422/garbage',\n",
       " '/hddraid5/data/colin/covid-data/garbage_proc/done/10049501362/garbage',\n",
       " '/hddraid5/data/colin/covid-data/garbage_proc/done/10049326809/garbage',\n",
       " '/hddraid5/data/colin/covid-data/garbage_proc/done/10049384560/garbage',\n",
       " '/hddraid5/data/colin/covid-data/garbage_proc/done/10049480074/garbage',\n",
       " '/hddraid5/data/colin/covid-data/garbage_proc/done/10049488897/garbage',\n",
       " '/hddraid5/data/colin/covid-data/garbage_proc/done/10049501380/garbage',\n",
       " '/hddraid5/data/colin/covid-data/garbage_proc/done/10049489999/garbage',\n",
       " '/hddraid5/data/colin/covid-data/garbage_proc/done/10049315602/garbage',\n",
       " '/hddraid5/data/colin/covid-data/garbage_proc/done/10049501873/garbage',\n",
       " '/hddraid5/data/colin/covid-data/garbage_proc/done/10049611363/garbage',\n",
       " '/hddraid5/data/colin/covid-data/garbage_proc/done/10049401861/garbage',\n",
       " '/hddraid5/data/colin/covid-data/garbage_proc/done/10049404515/garbage',\n",
       " '/hddraid5/data/colin/covid-data/garbage_proc/done/10049385371/garbage',\n",
       " '/hddraid5/data/colin/covid-data/garbage_proc/done/10049312723/garbage',\n",
       " '/hddraid5/data/colin/covid-data/garbage_proc/done/10049494706/garbage',\n",
       " '/hddraid5/data/colin/covid-data/garbage_proc/done/10049376359/garbage',\n",
       " '/hddraid5/data/colin/covid-data/garbage_proc/done/10049501700/garbage',\n",
       " '/hddraid5/data/colin/covid-data/garbage_proc/done/10049502392/garbage',\n",
       " '/hddraid5/data/colin/covid-data/garbage_proc/done/10049375575/garbage',\n",
       " '/hddraid5/data/colin/covid-data/garbage_proc/done/10049501536/garbage',\n",
       " '/hddraid5/data/colin/covid-data/garbage_proc/done/10049418772/garbage',\n",
       " '/hddraid5/data/colin/covid-data/garbage_proc/done/10049315083/garbage',\n",
       " '/hddraid5/data/colin/covid-data/garbage_proc/done/10049500669/garbage',\n",
       " '/hddraid5/data/colin/covid-data/garbage_proc/done/10049487601/garbage',\n",
       " '/hddraid5/data/colin/covid-data/garbage_proc/done/10049502360/garbage']"
      ]
     },
     "execution_count": 64,
     "metadata": {},
     "output_type": "execute_result"
    }
   ],
   "source": [
    "patients"
   ]
  },
  {
   "cell_type": "code",
   "execution_count": 49,
   "metadata": {},
   "outputs": [
    {
     "name": "stdout",
     "output_type": "stream",
     "text": [
      "100.0\n"
     ]
    }
   ],
   "source": [
    "done = len(glob.glob('/hddraid5/data/colin/covid-data/garbage_classified/done/*/garbage/*.jpg'))\n",
    "todo = len(glob.glob('/hddraid5/data/colin/covid-data/garbage_classified/todo/*/*.jpg'))\n",
    "print(100*done / (done + todo) )"
   ]
  },
  {
   "cell_type": "code",
   "execution_count": 51,
   "metadata": {},
   "outputs": [
    {
     "data": {
      "text/plain": [
       "0.1296"
      ]
     },
     "execution_count": 51,
     "metadata": {},
     "output_type": "execute_result"
    }
   ],
   "source": [
    "done/20000"
   ]
  },
  {
   "cell_type": "code",
   "execution_count": 47,
   "metadata": {},
   "outputs": [
    {
     "name": "stdout",
     "output_type": "stream",
     "text": [
      "0 remaining\n"
     ]
    }
   ],
   "source": [
    "print(f\"{todo} remaining\")"
   ]
  },
  {
   "cell_type": "code",
   "execution_count": 20,
   "metadata": {},
   "outputs": [
    {
     "data": {
      "text/plain": [
       "0.5555555555555556"
      ]
     },
     "execution_count": 20,
     "metadata": {},
     "output_type": "execute_result"
    }
   ],
   "source": [
    "1000/(30*60)"
   ]
  }
 ],
 "metadata": {
  "kernelspec": {
   "display_name": "Python 3",
   "language": "python",
   "name": "python3"
  },
  "language_info": {
   "codemirror_mode": {
    "name": "ipython",
    "version": 3
   },
   "file_extension": ".py",
   "mimetype": "text/x-python",
   "name": "python",
   "nbconvert_exporter": "python",
   "pygments_lexer": "ipython3",
   "version": "3.7.7"
  }
 },
 "nbformat": 4,
 "nbformat_minor": 4
}
