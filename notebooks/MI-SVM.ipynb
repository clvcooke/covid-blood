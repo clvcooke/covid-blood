{
 "cells": [
  {
   "cell_type": "code",
   "execution_count": 92,
   "metadata": {},
   "outputs": [],
   "source": [
    "# lets do some multiple instance learning!\n",
    "#!pip install -e git+https://github.com/garydoranjr/misvm.git#egg=misvm\n",
    "import misvm\n",
    "from sklearn.metrics import roc_auc_score, roc_curve\n",
    "from sklearn.metrics import auc as auc_score\n",
    "import numpy as np\n",
    "import matplotlib.pyplot as plt\n",
    "import json\n",
    "import os\n",
    "import glob"
   ]
  },
  {
   "cell_type": "code",
   "execution_count": 93,
   "metadata": {},
   "outputs": [],
   "source": [
    "# loading a feature file\n",
    "src_file = '/home/colin/results_cov/covid_class_v5_features_q7qx2q3r_fold_0.json'\n",
    "with open(src_file) as fp:\n",
    "    src_features = json.load(fp)"
   ]
  },
  {
   "cell_type": "code",
   "execution_count": 96,
   "metadata": {},
   "outputs": [
    {
     "data": {
      "text/plain": [
       "dict_keys(['train_features', 'train_predictions', 'train_label', 'train_files'])"
      ]
     },
     "execution_count": 96,
     "metadata": {},
     "output_type": "execute_result"
    }
   ],
   "source": [
    "src_features['10049501687'].keys()"
   ]
  },
  {
   "cell_type": "code",
   "execution_count": 97,
   "metadata": {},
   "outputs": [],
   "source": [
    "# # lets load the src data -- looking at a sample\n",
    "# src_file = '/home/colin/results_cov/covid_class_v5_1gjbinvl_fold_3.json'\n",
    "# with open(src_file) as fp:\n",
    "#     src_data = json.load(fp)\n",
    "test_data = {order:data for order, data in src_features.items() if 'predictions' in data}\n",
    "val_data = {order:data for order, data in src_features.items() if 'val_predictions' in data}\n",
    "train_data = {order:data for order, data in src_features.items() if 'train_predictions' in data}"
   ]
  },
  {
   "cell_type": "code",
   "execution_count": 40,
   "metadata": {},
   "outputs": [],
   "source": [
    "def eval_classifier(model, val_labels, val_bags, test_labels, test_bags):\n",
    "    model.fit(val_bags, val_labels)\n",
    "    bag_labs = model.predict(test_bags)\n",
    "    multi_roc = roc_auc_score(test_labels, bag_labs)\n",
    "    return multi_roc"
   ]
  },
  {
   "cell_type": "code",
   "execution_count": 99,
   "metadata": {},
   "outputs": [
    {
     "data": {
      "text/plain": [
       "0.7833333333333333"
      ]
     },
     "execution_count": 99,
     "metadata": {},
     "output_type": "execute_result"
    }
   ],
   "source": [
    "roc_score"
   ]
  },
  {
   "cell_type": "code",
   "execution_count": 98,
   "metadata": {},
   "outputs": [
    {
     "name": "stdout",
     "output_type": "stream",
     "text": [
      "Non-random start...\n",
      "\n",
      "Iteration 1...\n",
      "Training SVM...\n",
      "     pcost       dcost       gap    pres   dres\n",
      " 0: -1.7764e+01 -2.0091e-01  1e+05  3e+02  6e-15\n",
      " 1: -2.6318e-01 -3.6633e-03  1e+03  5e+00  1e-14\n",
      " 2: -3.0230e-03 -1.0776e-05  2e+01  5e-02  2e-14\n",
      " 3: -3.1645e-05 -1.7383e-06  2e-01  5e-04  2e-14\n",
      " 4: -1.0171e-06 -1.7292e-06  2e-03  6e-06  2e-14\n",
      " 5: -6.7946e-07 -1.4380e-06  2e-04  5e-07  3e-14\n",
      " 6: -6.2371e-07 -1.0934e-06  2e-06  5e-09  5e-13\n",
      " 7: -6.2354e-07 -8.4139e-07  2e-07  4e-11  5e-14\n",
      " 8: -6.2358e-07 -6.2609e-07  3e-09  4e-13  9e-14\n",
      "Optimal solution found.\n",
      "Recomputing classes...\n",
      "Selector differences: 35280\n",
      "Updating QP...\n",
      "\n",
      "Iteration 2...\n",
      "Training SVM...\n",
      "     pcost       dcost       gap    pres   dres\n",
      " 0: -9.8437e+00 -3.9728e-01  1e+05  3e+02  2e-13\n",
      " 1: -5.9483e-01 -9.8568e-02  4e+03  1e+01  1e-13\n",
      " 2: -3.3178e-02 -3.4555e-03  2e+02  5e-01  3e-14\n",
      " 3: -1.4422e-03 -7.4535e-05  7e+00  2e-02  3e-14\n",
      " 4: -8.7672e-05 -5.9817e-06  4e-01  1e-03  5e-14\n",
      " 5: -1.5827e-06 -1.9466e-06  9e-03  3e-05  4e-14\n",
      " 6: -6.5964e-07 -1.8152e-06  2e-04  5e-07  9e-15\n",
      " 7: -6.2301e-07 -1.1665e-06  2e-06  4e-09  2e-13\n",
      " 8: -6.2340e-07 -8.7196e-07  3e-07  1e-10  6e-14\n",
      " 9: -6.2353e-07 -6.5811e-07  3e-08  1e-11  4e-13\n",
      "Optimal solution found.\n",
      "Recomputing classes...\n",
      "Selector differences: 3\n",
      "Updating QP...\n",
      "\n",
      "Iteration 3...\n",
      "Training SVM...\n",
      "     pcost       dcost       gap    pres   dres\n",
      " 0: -6.2353e-07 -6.5811e-07  3e-08  1e-11  1e-07\n",
      " 1: -6.2357e-07 -6.2970e-07  6e-09  7e-14  6e-10\n",
      "Optimal solution found.\n",
      "Recomputing classes...\n",
      "Selector differences: 2\n",
      "Updating QP...\n",
      "\n",
      "Iteration 4...\n",
      "Training SVM...\n",
      "     pcost       dcost       gap    pres   dres\n",
      " 0: -6.2357e-07 -6.2970e-07  6e-09  7e-14  7e-07\n",
      " 1: -6.2357e-07 -6.2548e-07  2e-09  1e-14  1e-07\n",
      " 2: -6.2357e-07 -6.2415e-07  6e-10  3e-15  4e-08\n",
      "Optimal solution found.\n",
      "Recomputing classes...\n",
      "Selector differences: 1\n",
      "Updating QP...\n",
      "\n",
      "Iteration 5...\n",
      "Training SVM...\n",
      "     pcost       dcost       gap    pres   dres\n",
      " 0: -6.2357e-07 -6.2415e-07  6e-10  3e-15  1e-06\n",
      " 1: -6.2357e-07 -6.2383e-07  3e-10  1e-15  4e-07\n",
      " 2: -6.2357e-07 -6.2366e-07  9e-11  2e-22  8e-12\n",
      "Optimal solution found.\n",
      "Recomputing classes...\n",
      "Selector differences: 0\n",
      "Random restart 1 of 1...\n",
      "\n",
      "Iteration 1...\n",
      "Training SVM...\n",
      "     pcost       dcost       gap    pres   dres\n",
      " 0: -1.7754e+01 -2.0367e-01  1e+05  3e+02  6e-15\n",
      " 1: -2.6419e-01 -3.7028e-03  1e+03  5e+00  9e-15\n",
      " 2: -3.0458e-03 -1.0907e-05  2e+01  5e-02  2e-14\n",
      " 3: -3.1877e-05 -1.7385e-06  2e-01  5e-04  2e-14\n",
      " 4: -1.0195e-06 -1.7294e-06  2e-03  6e-06  2e-14\n",
      " 5: -6.7966e-07 -1.4391e-06  2e-04  5e-07  4e-14\n",
      " 6: -6.2371e-07 -1.0936e-06  2e-06  5e-09  6e-13\n",
      " 7: -6.2354e-07 -8.4205e-07  2e-07  4e-11  5e-14\n",
      " 8: -6.2358e-07 -6.2610e-07  3e-09  4e-13  9e-14\n",
      "Optimal solution found.\n",
      "Recomputing classes...\n",
      "Selector differences: 35280\n",
      "Updating QP...\n",
      "\n",
      "Iteration 2...\n",
      "Training SVM...\n",
      "     pcost       dcost       gap    pres   dres\n",
      " 0: -9.8437e+00 -3.9728e-01  1e+05  3e+02  2e-13\n",
      " 1: -5.9483e-01 -9.8568e-02  4e+03  1e+01  1e-13\n",
      " 2: -3.3178e-02 -3.4555e-03  2e+02  5e-01  3e-14\n",
      " 3: -1.4422e-03 -7.4535e-05  7e+00  2e-02  3e-14\n",
      " 4: -8.7672e-05 -5.9817e-06  4e-01  1e-03  5e-14\n",
      " 5: -1.5827e-06 -1.9466e-06  9e-03  3e-05  4e-14\n",
      " 6: -6.5964e-07 -1.8152e-06  2e-04  5e-07  9e-15\n",
      " 7: -6.2301e-07 -1.1665e-06  2e-06  4e-09  2e-13\n",
      " 8: -6.2340e-07 -8.7196e-07  3e-07  1e-10  6e-14\n",
      " 9: -6.2353e-07 -6.5811e-07  3e-08  1e-11  4e-13\n",
      "Optimal solution found.\n",
      "Recomputing classes...\n",
      "Selector differences: 3\n",
      "Updating QP...\n",
      "\n",
      "Iteration 3...\n",
      "Training SVM...\n",
      "     pcost       dcost       gap    pres   dres\n",
      " 0: -6.2353e-07 -6.5811e-07  3e-08  1e-11  1e-07\n",
      " 1: -6.2357e-07 -6.2970e-07  6e-09  7e-14  6e-10\n",
      "Optimal solution found.\n",
      "Recomputing classes...\n",
      "Selector differences: 2\n",
      "Updating QP...\n",
      "\n",
      "Iteration 4...\n",
      "Training SVM...\n",
      "     pcost       dcost       gap    pres   dres\n",
      " 0: -6.2357e-07 -6.2970e-07  6e-09  7e-14  7e-07\n",
      " 1: -6.2357e-07 -6.2548e-07  2e-09  1e-14  1e-07\n",
      " 2: -6.2357e-07 -6.2415e-07  6e-10  3e-15  4e-08\n",
      "Optimal solution found.\n",
      "Recomputing classes...\n",
      "Selector differences: 1\n",
      "Updating QP...\n",
      "\n",
      "Iteration 5...\n",
      "Training SVM...\n",
      "     pcost       dcost       gap    pres   dres\n",
      " 0: -6.2357e-07 -6.2415e-07  6e-10  3e-15  1e-06\n",
      " 1: -6.2357e-07 -6.2383e-07  3e-10  1e-15  4e-07\n",
      " 2: -6.2357e-07 -6.2366e-07  9e-11  2e-22  8e-12\n",
      "Optimal solution found.\n",
      "Recomputing classes...\n",
      "Selector differences: 0\n",
      "Linear MISVM 0.85\n",
      "NSK 0.7833333333333333\n",
      "median ROC 0.8977272727272728\n"
     ]
    }
   ],
   "source": [
    "# lets now train a few SVMs on the validation data\n",
    "linear_misvm = misvm.MISVM(kernel='polynomial', verbose=True)\n",
    "linear_mica = misvm.MICA(kernel='linear', verbose=False)\n",
    "nsk = misvm.NSK(C=10, verbose=False, kernel='linear_fs')\n",
    "sil = misvm.SIL(C=10, verbose=False)\n",
    "miss = misvm.MissSVM(verbose=False)\n",
    "classifiers = [linear_misvm, nsk]\n",
    "class_names = [\"Linear MISVM\", 'NSK']\n",
    "\n",
    "val_bags, val_labels = zip(*[(data['val_features'], data['val_label']) for data in val_data.values()])\n",
    "test_bags, test_labels = zip(*[(data['features'], data['label']) for data in test_data.values()])\n",
    "scale = 1\n",
    "val_bags = [np.array(bag).reshape(-1, 64)*scale for bag in val_bags]\n",
    "test_bags = [np.array(bag).reshape(-1, 64)*scale for bag in test_bags]\n",
    "\n",
    "roc_scores = []\n",
    "for classifier, classifier_name in zip(classifiers, class_names):\n",
    "    roc_score = eval_classifier(classifier, np.sign(val_labels)*2 - 1, val_bags, test_labels, test_bags)\n",
    "    roc_scores.append(roc_score)\n",
    "for class_name, score in zip(class_names, roc_scores):\n",
    "    print(class_name, score)\n",
    "print('median ROC', median_roc)\n"
   ]
  },
  {
   "cell_type": "code",
   "execution_count": 71,
   "metadata": {},
   "outputs": [
    {
     "name": "stdout",
     "output_type": "stream",
     "text": [
      "Linear MISVM 0.8920454545454546\n",
      "NSK 0.40625000000000006\n",
      "median ROC 0.8977272727272728\n"
     ]
    }
   ],
   "source": []
  },
  {
   "cell_type": "code",
   "execution_count": null,
   "metadata": {},
   "outputs": [],
   "source": []
  },
  {
   "cell_type": "code",
   "execution_count": null,
   "metadata": {},
   "outputs": [],
   "source": []
  },
  {
   "cell_type": "code",
   "execution_count": 65,
   "metadata": {},
   "outputs": [],
   "source": [
    "bag_labs = classifier.predict(test_bags)"
   ]
  },
  {
   "cell_type": "code",
   "execution_count": 66,
   "metadata": {},
   "outputs": [
    {
     "data": {
      "text/plain": [
       "array([ 0.35640892,  0.49998498, -1.09087131,  0.38911041, -0.25291742,\n",
       "        0.48123175,  0.44515025, -0.78829505, -1.07619267,  0.46236454,\n",
       "        0.39130005,  0.37191015,  0.43225734,  0.10374659,  0.10204424,\n",
       "        0.46775638,  0.38056838, -0.73902295,  0.44539629, -1.74831147,\n",
       "        0.39923935,  0.41548497,  0.49415713, -1.7986592 , -2.54853831,\n",
       "       -2.87597323, -2.58488429])"
      ]
     },
     "execution_count": 66,
     "metadata": {},
     "output_type": "execute_result"
    }
   ],
   "source": [
    "bag_labs"
   ]
  },
  {
   "cell_type": "code",
   "execution_count": 19,
   "metadata": {},
   "outputs": [
    {
     "data": {
      "text/plain": [
       "(27,)"
      ]
     },
     "execution_count": 19,
     "metadata": {},
     "output_type": "execute_result"
    }
   ],
   "source": [
    "bag_labs.shape"
   ]
  },
  {
   "cell_type": "code",
   "execution_count": 21,
   "metadata": {},
   "outputs": [
    {
     "data": {
      "text/plain": [
       "27"
      ]
     },
     "execution_count": 21,
     "metadata": {},
     "output_type": "execute_result"
    }
   ],
   "source": [
    "len(test_labels)"
   ]
  },
  {
   "cell_type": "code",
   "execution_count": 36,
   "metadata": {},
   "outputs": [],
   "source": [
    "multi_roc = roc_auc_score(val_labels, bag_labs)"
   ]
  },
  {
   "cell_type": "code",
   "execution_count": 37,
   "metadata": {},
   "outputs": [
    {
     "data": {
      "text/plain": [
       "0.95"
      ]
     },
     "execution_count": 37,
     "metadata": {},
     "output_type": "execute_result"
    }
   ],
   "source": [
    "multi_roc"
   ]
  },
  {
   "cell_type": "code",
   "execution_count": 24,
   "metadata": {},
   "outputs": [],
   "source": [
    "median_roc = roc_auc_score(test_labels, [np.median(bag.flatten()) for bag in test_bags])"
   ]
  },
  {
   "cell_type": "code",
   "execution_count": 33,
   "metadata": {},
   "outputs": [
    {
     "name": "stdout",
     "output_type": "stream",
     "text": [
      "Linear MISVM 0.8920454545454546\n",
      "RBF MISVM 0.8920454545454546\n",
      "Quadratic MISVM 0.8920454545454546\n",
      "Linear MICA 0.8920454545454546\n",
      "RBF MICA 0.46590909090909094\n",
      "Quadratic MICA 0.8920454545454546\n",
      "median ROC 0.8977272727272728\n"
     ]
    }
   ],
   "source": []
  }
 ],
 "metadata": {
  "kernelspec": {
   "display_name": "Python 3",
   "language": "python",
   "name": "python3"
  },
  "language_info": {
   "codemirror_mode": {
    "name": "ipython",
    "version": 3
   },
   "file_extension": ".py",
   "mimetype": "text/x-python",
   "name": "python",
   "nbconvert_exporter": "python",
   "pygments_lexer": "ipython3",
   "version": "3.8.3"
  }
 },
 "nbformat": 4,
 "nbformat_minor": 4
}
