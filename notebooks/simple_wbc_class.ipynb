{
 "cells": [
  {
   "cell_type": "code",
   "execution_count": 23,
   "metadata": {},
   "outputs": [],
   "source": [
    "import sys\n",
    "sys.path.append('/home/colin/covid-blood/')\n",
    "from config import get_config\n",
    "from torchvision import transforms\n",
    "from utils import setup_torch, get_covid_transforms, load_model\n",
    "import wandb\n",
    "from dataloader import load_all_patients, load_pbc_data\n",
    "from models.imagenet import get_model\n",
    "from models.multi_instance import AttentionModel, GatedAttentionModel, SimpleMIL\n",
    "from mil_trainer import ClassificationTrainer\n",
    "from torch import optim\n",
    "import warnings\n",
    "from tqdm import tqdm\n",
    "import json\n",
    "from torchvision.datasets import ImageFolder\n",
    "import os\n",
    "import torch\n",
    "import matplotlib.pyplot as plt"
   ]
  },
  {
   "cell_type": "code",
   "execution_count": 22,
   "metadata": {},
   "outputs": [],
   "source": [
    "def create_mega_fold(run_ids, root_dir='/home/colin/results_cov/', control=False):\n",
    "    mega_fold = {}\n",
    "    if control:\n",
    "        root_dir = os.path.join(root_dir, 'control')\n",
    "    for run_id in run_ids:\n",
    "        files = glob.glob(os.path.join(root_dir, f'*{run_id}*.json'))\n",
    "        assert len(files) == 1\n",
    "        file = files[0]\n",
    "        with open(file) as fp:\n",
    "            all_data = json.load(fp)        \n",
    "            test_fold = {patient: data for patient, data in all_data.items() if 'predictions' in data}\n",
    "            for patient, data in test_fold.items():\n",
    "                if patient in mega_fold:\n",
    "                    mega_fold[patient]['predictions'] += data['predictions']\n",
    "                else:\n",
    "                    mega_fold[patient] = data\n",
    "    return mega_fold\n",
    "\n",
    "def denormalize_image(image, mean=[0.485, 0.456, 0.406], std = [0.229, 0.224, 0.225]):\n",
    "    image = image.clone()\n",
    "    image = image * torch.tensor(std).view(3, 1, 1)\n",
    "    image = image + torch.tensor(mean).view(3, 1, 1)\n",
    "    return image.permute(1, 2, 0)"
   ]
  },
  {
   "cell_type": "code",
   "execution_count": 10,
   "metadata": {},
   "outputs": [],
   "source": [
    "setup_torch(0, 1, 1)"
   ]
  },
  {
   "cell_type": "code",
   "execution_count": 2,
   "metadata": {},
   "outputs": [
    {
     "name": "stdout",
     "output_type": "stream",
     "text": [
      "0.5 blank\n"
     ]
    }
   ],
   "source": [
    "data_transforms = get_covid_transforms(image_size=224, center_crop_amount=224)"
   ]
  },
  {
   "cell_type": "code",
   "execution_count": 44,
   "metadata": {},
   "outputs": [],
   "source": [
    "batch_size=64\n",
    "data_dir = '/home/colin/filtered/'\n",
    "data_transforms = {\n",
    "    'train': data_transforms['train'],\n",
    "    'val': data_transforms['val']\n",
    "}\n",
    "# luckily torchvision has a nice class for this scenario\n",
    "# Create training and validation datasets\n",
    "image_datasets = {x: ImageFolder(os.path.join(data_dir, x), data_transforms[x]) for x in ['train', 'val']}\n",
    "# Create training and validation dataloaders\n",
    "train_loader, val_loader = [torch.utils.data.DataLoader(image_datasets[x], batch_size=batch_size, shuffle=True) for\n",
    "                            x in ['train', 'val']]"
   ]
  },
  {
   "cell_type": "code",
   "execution_count": 45,
   "metadata": {},
   "outputs": [],
   "source": [
    "classes = ['basophil',\n",
    " 'eosinophil',\n",
    " 'erythroblast',\n",
    " 'garbage',\n",
    " 'ig',\n",
    " 'lymphocyte',\n",
    " 'monocyte',\n",
    " 'neutrophil',\n",
    " 'platelet']"
   ]
  },
  {
   "cell_type": "code",
   "execution_count": 46,
   "metadata": {},
   "outputs": [],
   "source": [
    "wbc_model = get_model('resnet50', len(classes), True).cuda()"
   ]
  },
  {
   "cell_type": "code",
   "execution_count": 47,
   "metadata": {},
   "outputs": [],
   "source": [
    "optimizer = optim.AdamW(wbc_model.parameters(), lr=3e-4)"
   ]
  },
  {
   "cell_type": "code",
   "execution_count": 48,
   "metadata": {},
   "outputs": [],
   "source": [
    "wbc_model.train()\n",
    "pass"
   ]
  },
  {
   "cell_type": "code",
   "execution_count": 49,
   "metadata": {},
   "outputs": [],
   "source": [
    "loss = torch.nn.CrossEntropyLoss()"
   ]
  },
  {
   "cell_type": "code",
   "execution_count": 50,
   "metadata": {},
   "outputs": [
    {
     "name": "stderr",
     "output_type": "stream",
     "text": [
      "  0%|          | 0/249 [00:00<?, ?it/s]"
     ]
    },
    {
     "name": "stdout",
     "output_type": "stream",
     "text": [
      "STARTING EPOCH:  0\n"
     ]
    },
    {
     "name": "stderr",
     "output_type": "stream",
     "text": [
      "100%|██████████| 249/249 [04:58<00:00,  1.20s/it]\n",
      "  0%|          | 0/45 [00:00<?, ?it/s]"
     ]
    },
    {
     "name": "stdout",
     "output_type": "stream",
     "text": [
      "TRAIN ACC:  0.7462514531181519\n",
      "TRAIN LOSS:  1.0384605268397964\n"
     ]
    },
    {
     "name": "stderr",
     "output_type": "stream",
     "text": [
      "100%|██████████| 45/45 [00:12<00:00,  3.68it/s]\n",
      "  0%|          | 0/249 [00:00<?, ?it/s]"
     ]
    },
    {
     "name": "stdout",
     "output_type": "stream",
     "text": [
      "VAL ACC:  0.8213998542891608\n",
      "VAL LOSS:  0.7446866101688809\n",
      "STARTING EPOCH:  1\n"
     ]
    },
    {
     "name": "stderr",
     "output_type": "stream",
     "text": [
      "100%|██████████| 249/249 [04:46<00:00,  1.15s/it]\n",
      "  0%|          | 0/45 [00:00<?, ?it/s]"
     ]
    },
    {
     "name": "stdout",
     "output_type": "stream",
     "text": [
      "TRAIN ACC:  0.8800597126225391\n",
      "TRAIN LOSS:  0.5055736068740906\n"
     ]
    },
    {
     "name": "stderr",
     "output_type": "stream",
     "text": [
      "100%|██████████| 45/45 [00:11<00:00,  4.01it/s]\n",
      "  0%|          | 0/249 [00:00<?, ?it/s]"
     ]
    },
    {
     "name": "stdout",
     "output_type": "stream",
     "text": [
      "VAL ACC:  0.8602887431780497\n",
      "VAL LOSS:  0.5310535828272501\n",
      "STARTING EPOCH:  2\n"
     ]
    },
    {
     "name": "stderr",
     "output_type": "stream",
     "text": [
      "100%|██████████| 249/249 [04:48<00:00,  1.16s/it]\n",
      "  0%|          | 0/45 [00:00<?, ?it/s]"
     ]
    },
    {
     "name": "stdout",
     "output_type": "stream",
     "text": [
      "TRAIN ACC:  0.8955592106145069\n",
      "TRAIN LOSS:  0.39304940809447125\n"
     ]
    },
    {
     "name": "stderr",
     "output_type": "stream",
     "text": [
      "100%|██████████| 45/45 [00:11<00:00,  4.05it/s]\n",
      "  0%|          | 0/249 [00:00<?, ?it/s]"
     ]
    },
    {
     "name": "stdout",
     "output_type": "stream",
     "text": [
      "VAL ACC:  0.8837719294759963\n",
      "VAL LOSS:  0.4411036749680837\n",
      "STARTING EPOCH:  3\n"
     ]
    },
    {
     "name": "stderr",
     "output_type": "stream",
     "text": [
      "100%|██████████| 249/249 [04:49<00:00,  1.16s/it]\n",
      "  0%|          | 0/45 [00:00<?, ?it/s]"
     ]
    },
    {
     "name": "stdout",
     "output_type": "stream",
     "text": [
      "TRAIN ACC:  0.904426918211711\n",
      "TRAIN LOSS:  0.3392461881819499\n"
     ]
    },
    {
     "name": "stderr",
     "output_type": "stream",
     "text": [
      "100%|██████████| 45/45 [00:11<00:00,  4.02it/s]\n",
      "  0%|          | 0/249 [00:00<?, ?it/s]"
     ]
    },
    {
     "name": "stdout",
     "output_type": "stream",
     "text": [
      "VAL ACC:  0.8955774850315518\n",
      "VAL LOSS:  0.3759029832151201\n",
      "STARTING EPOCH:  4\n"
     ]
    },
    {
     "name": "stderr",
     "output_type": "stream",
     "text": [
      "100%|██████████| 249/249 [04:49<00:00,  1.16s/it]\n",
      "  0%|          | 0/45 [00:00<?, ?it/s]"
     ]
    },
    {
     "name": "stdout",
     "output_type": "stream",
     "text": [
      "TRAIN ACC:  0.9083538100901378\n",
      "TRAIN LOSS:  0.3126192086312666\n"
     ]
    },
    {
     "name": "stderr",
     "output_type": "stream",
     "text": [
      "100%|██████████| 45/45 [00:10<00:00,  4.09it/s]\n",
      "  0%|          | 0/249 [00:00<?, ?it/s]"
     ]
    },
    {
     "name": "stdout",
     "output_type": "stream",
     "text": [
      "VAL ACC:  0.8893274850315518\n",
      "VAL LOSS:  0.3726087427801556\n",
      "STARTING EPOCH:  5\n"
     ]
    },
    {
     "name": "stderr",
     "output_type": "stream",
     "text": [
      "100%|██████████| 249/249 [04:49<00:00,  1.16s/it]\n",
      "  0%|          | 0/45 [00:00<?, ?it/s]"
     ]
    },
    {
     "name": "stdout",
     "output_type": "stream",
     "text": [
      "TRAIN ACC:  0.9164751109827953\n",
      "TRAIN LOSS:  0.2866353825273284\n"
     ]
    },
    {
     "name": "stderr",
     "output_type": "stream",
     "text": [
      "100%|██████████| 45/45 [00:11<00:00,  4.02it/s]\n",
      "  0%|          | 0/249 [00:00<?, ?it/s]"
     ]
    },
    {
     "name": "stdout",
     "output_type": "stream",
     "text": [
      "VAL ACC:  0.9139802628093295\n",
      "VAL LOSS:  0.3160105721818076\n",
      "STARTING EPOCH:  6\n"
     ]
    },
    {
     "name": "stderr",
     "output_type": "stream",
     "text": [
      "100%|██████████| 249/249 [04:48<00:00,  1.16s/it]\n",
      "  0%|          | 0/45 [00:00<?, ?it/s]"
     ]
    },
    {
     "name": "stdout",
     "output_type": "stream",
     "text": [
      "TRAIN ACC:  0.9174791270470524\n",
      "TRAIN LOSS:  0.2702555116041597\n"
     ]
    },
    {
     "name": "stderr",
     "output_type": "stream",
     "text": [
      "100%|██████████| 45/45 [00:11<00:00,  4.04it/s]\n",
      "  0%|          | 0/249 [00:00<?, ?it/s]"
     ]
    },
    {
     "name": "stdout",
     "output_type": "stream",
     "text": [
      "VAL ACC:  0.9118969294759962\n",
      "VAL LOSS:  0.31129692097504935\n",
      "STARTING EPOCH:  7\n"
     ]
    },
    {
     "name": "stderr",
     "output_type": "stream",
     "text": [
      "100%|██████████| 249/249 [04:53<00:00,  1.18s/it]\n",
      "  0%|          | 0/45 [00:00<?, ?it/s]"
     ]
    },
    {
     "name": "stdout",
     "output_type": "stream",
     "text": [
      "TRAIN ACC:  0.9226676443494467\n",
      "TRAIN LOSS:  0.25664085329297076\n"
     ]
    },
    {
     "name": "stderr",
     "output_type": "stream",
     "text": [
      "100%|██████████| 45/45 [00:11<00:00,  3.99it/s]\n",
      "  0%|          | 0/249 [00:00<?, ?it/s]"
     ]
    },
    {
     "name": "stdout",
     "output_type": "stream",
     "text": [
      "VAL ACC:  0.9073830405871074\n",
      "VAL LOSS:  0.30459754632578956\n",
      "STARTING EPOCH:  8\n"
     ]
    },
    {
     "name": "stderr",
     "output_type": "stream",
     "text": [
      "100%|██████████| 249/249 [04:56<00:00,  1.19s/it]\n",
      "  0%|          | 0/45 [00:00<?, ?it/s]"
     ]
    },
    {
     "name": "stdout",
     "output_type": "stream",
     "text": [
      "TRAIN ACC:  0.9217230766173826\n",
      "TRAIN LOSS:  0.25345513855956164\n"
     ]
    },
    {
     "name": "stderr",
     "output_type": "stream",
     "text": [
      "100%|██████████| 45/45 [00:11<00:00,  3.97it/s]\n",
      "  0%|          | 0/249 [00:00<?, ?it/s]"
     ]
    },
    {
     "name": "stdout",
     "output_type": "stream",
     "text": [
      "VAL ACC:  0.9170138888888889\n",
      "VAL LOSS:  0.2719445832901531\n",
      "STARTING EPOCH:  9\n"
     ]
    },
    {
     "name": "stderr",
     "output_type": "stream",
     "text": [
      "100%|██████████| 249/249 [04:56<00:00,  1.19s/it]\n",
      "  0%|          | 0/45 [00:00<?, ?it/s]"
     ]
    },
    {
     "name": "stdout",
     "output_type": "stream",
     "text": [
      "TRAIN ACC:  0.927813226678764\n",
      "TRAIN LOSS:  0.23585226470567136\n"
     ]
    },
    {
     "name": "stderr",
     "output_type": "stream",
     "text": [
      "100%|██████████| 45/45 [00:11<00:00,  4.00it/s]"
     ]
    },
    {
     "name": "stdout",
     "output_type": "stream",
     "text": [
      "VAL ACC:  0.9203581876224942\n",
      "VAL LOSS:  0.2638611737224791\n"
     ]
    },
    {
     "name": "stderr",
     "output_type": "stream",
     "text": [
      "\n"
     ]
    }
   ],
   "source": [
    "epochs = 10\n",
    "for e in range(epochs):\n",
    "    total_loss = 0\n",
    "    total_acc = 0\n",
    "    print(\"STARTING EPOCH: \", e)\n",
    "    wbc_model.train()\n",
    "    for images, labels in tqdm(train_loader):\n",
    "        images, labels = images.cuda(), labels.cuda()\n",
    "        output = wbc_model(images)\n",
    "        _, preds = torch.max(output, 1)\n",
    "        acc = torch.sum(preds == labels.data).float() / len(labels)\n",
    "        loss_val = loss(output, labels)\n",
    "        optimizer.zero_grad()\n",
    "        loss_val.backward()\n",
    "        optimizer.step()\n",
    "        total_loss += float(loss_val)\n",
    "        total_acc += float(acc)\n",
    "    print(\"TRAIN ACC: \", total_acc/len(train_loader))\n",
    "    print(\"TRAIN LOSS: \", total_loss/len(train_loader))\n",
    "    wbc_model.eval()\n",
    "    total_loss = 0\n",
    "    total_acc = 0\n",
    "    with torch.no_grad():\n",
    "        for images, labels in tqdm(val_loader):\n",
    "            images, labels = images.cuda(), labels.cuda()\n",
    "            output = wbc_model(images)\n",
    "            _, preds = torch.max(output, 1)\n",
    "            acc = torch.sum(preds == labels.data).float() / len(labels)\n",
    "            loss_val = loss(output, labels)\n",
    "            total_loss += float(loss_val)\n",
    "            total_acc += float(acc)\n",
    "    print(\"VAL ACC: \", total_acc/len(val_loader))\n",
    "    print(\"VAL LOSS: \", total_loss/len(val_loader))"
   ]
  },
  {
   "cell_type": "code",
   "execution_count": 51,
   "metadata": {},
   "outputs": [],
   "source": [
    "model_path = '/home/colin/wbc_model_2021.pth'\n",
    "torch.save(wbc_model.state_dict(), model_path)"
   ]
  }
 ],
 "metadata": {
  "kernelspec": {
   "display_name": "Python 3",
   "language": "python",
   "name": "python3"
  },
  "language_info": {
   "codemirror_mode": {
    "name": "ipython",
    "version": 3
   },
   "file_extension": ".py",
   "mimetype": "text/x-python",
   "name": "python",
   "nbconvert_exporter": "python",
   "pygments_lexer": "ipython3",
   "version": "3.8.5"
  }
 },
 "nbformat": 4,
 "nbformat_minor": 4
}
