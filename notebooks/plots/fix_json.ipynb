{
 "cells": [
  {
   "cell_type": "code",
   "execution_count": 1,
   "metadata": {},
   "outputs": [],
   "source": [
    "import json\n",
    "import glob"
   ]
  },
  {
   "cell_type": "code",
   "execution_count": 4,
   "metadata": {},
   "outputs": [],
   "source": [
    "all_files = glob.glob(\"/home/colin/rev_4/*.json\")\n",
    "for file in all_files:\n",
    "    training_orders = {}\n",
    "    testing_orders = {}\n",
    "    validation_orders = {}\n",
    "    with open(file) as fp:\n",
    "        all_data = json.load(fp)\n",
    "    for order, data in all_data.items():\n",
    "        if 'train_predictions' in data:\n",
    "            training_orders[order] = data\n",
    "        elif 'val_predictions' in data:\n",
    "            validation_orders[order] = data\n",
    "        else:\n",
    "            testing_orders[order] = data\n",
    "    compiled_data = {\n",
    "        'testing': testing_orders,\n",
    "        'training': training_orders,\n",
    "        'validation': validation_orders\n",
    "    }\n",
    "    with open(file, 'w') as fp:\n",
    "        json.dump(compiled_data, fp)"
   ]
  }
 ],
 "metadata": {
  "kernelspec": {
   "display_name": "Python 3",
   "language": "python",
   "name": "python3"
  },
  "language_info": {
   "codemirror_mode": {
    "name": "ipython",
    "version": 3
   },
   "file_extension": ".py",
   "mimetype": "text/x-python",
   "name": "python",
   "nbconvert_exporter": "python",
   "pygments_lexer": "ipython3",
   "version": "3.8.3"
  }
 },
 "nbformat": 4,
 "nbformat_minor": 4
}
