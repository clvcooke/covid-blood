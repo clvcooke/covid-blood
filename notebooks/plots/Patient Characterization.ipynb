{
 "cells": [
  {
   "cell_type": "code",
   "execution_count": 1,
   "metadata": {},
   "outputs": [],
   "source": [
    "import json\n",
    "import torch\n",
    "from torch.utils.data import DataLoader, random_split\n",
    "from torchvision.datasets import ImageFolder\n",
    "import numpy as np\n",
    "from sklearn import model_selection\n",
    "from pandas import read_excel\n",
    "import os\n",
    "import glob\n",
    "from PIL import Image\n",
    "from tqdm import tqdm\n",
    "\n",
    "# used to filter out large images (not of single cells)\n",
    "IMAGE_SIZE_CUTOFF_UPPER = 800000\n",
    "# size in bytes\n",
    "IMAGE_SIZE_CUTOFF_LOWER = 100"
   ]
  },
  {
   "cell_type": "code",
   "execution_count": 2,
   "metadata": {},
   "outputs": [],
   "source": [
    "def get_patient_orders(exclude_orders=None):\n",
    "    base_path = '/hddraid5/data/colin/covid-data/'\n",
    "    label_files = glob.glob(os.path.join(base_path, '*Covid*.xlsx'))\n",
    "    orders = []\n",
    "    test_results = []\n",
    "    for label_file in label_files:\n",
    "        table = read_excel(label_file)\n",
    "        table_orders = list(table['Order #'])\n",
    "        table_test_results = list(table['Covid Test result'])\n",
    "        orders = orders + table_orders\n",
    "        test_results = test_results + table_test_results\n",
    "    positive_images = {}\n",
    "    negative_images = {}\n",
    "    for order, test_result in tqdm(zip(orders, test_results), desc='reading excel files', total=len(orders)):\n",
    "        try:\n",
    "            np.int(order)\n",
    "            if test_result.lower() == 'positive':\n",
    "                label = True\n",
    "            elif test_result.lower() == 'negative':\n",
    "                label = False\n",
    "            else:\n",
    "                continue\n",
    "        except (TypeError, AttributeError, ValueError):\n",
    "            continue\n",
    "        all_image_paths = glob.glob(os.path.join(base_path, 'COVID Research Images', '**', str(order), '**', '*.jpg'),\n",
    "                                    recursive=True)\n",
    "        image_paths = [image_path for image_path in all_image_paths if\n",
    "                       (os.path.getsize(image_path) < IMAGE_SIZE_CUTOFF_UPPER and os.path.getsize(\n",
    "                           image_path) > IMAGE_SIZE_CUTOFF_LOWER)]\n",
    "        if len(image_paths) == 0:\n",
    "            continue\n",
    "        if label:\n",
    "            positive_images[str(order)] = image_paths\n",
    "        else:\n",
    "            negative_images[str(order)] = image_paths\n",
    "    # sort by order number, python 3.7 has dictionaries ordered by default\n",
    "    negative_images = dict(sorted(negative_images.items()))\n",
    "    positive_images = dict(sorted(positive_images.items()))\n",
    "    all_images = dict(negative_images, **positive_images)\n",
    "    return negative_images, positive_images, all_images"
   ]
  },
  {
   "cell_type": "code",
   "execution_count": 3,
   "metadata": {},
   "outputs": [
    {
     "name": "stderr",
     "output_type": "stream",
     "text": [
      "reading excel files: 100%|██████████| 1850/1850 [00:44<00:00, 41.52it/s]\n"
     ]
    }
   ],
   "source": [
    "negative_image_paths, positive_image_paths, all_image_paths = get_patient_orders()\n"
   ]
  },
  {
   "cell_type": "code",
   "execution_count": 12,
   "metadata": {},
   "outputs": [],
   "source": [
    "cell_counts = [len(c) for k,c in all_image_paths.items()]"
   ]
  },
  {
   "cell_type": "code",
   "execution_count": 15,
   "metadata": {},
   "outputs": [
    {
     "data": {
      "text/plain": [
       "21516"
      ]
     },
     "execution_count": 15,
     "metadata": {},
     "output_type": "execute_result"
    }
   ],
   "source": [
    "np.sum(cell_counts)"
   ]
  },
  {
   "cell_type": "code",
   "execution_count": 13,
   "metadata": {},
   "outputs": [
    {
     "data": {
      "text/plain": [
       "71.69808618555444"
      ]
     },
     "execution_count": 13,
     "metadata": {},
     "output_type": "execute_result"
    }
   ],
   "source": [
    "np.std(cell_counts)"
   ]
  },
  {
   "cell_type": "code",
   "execution_count": 14,
   "metadata": {},
   "outputs": [
    {
     "data": {
      "text/plain": [
       "133.63975155279502"
      ]
     },
     "execution_count": 14,
     "metadata": {},
     "output_type": "execute_result"
    }
   ],
   "source": [
    "np.mean(cell_counts)"
   ]
  },
  {
   "cell_type": "code",
   "execution_count": null,
   "metadata": {},
   "outputs": [],
   "source": []
  },
  {
   "cell_type": "code",
   "execution_count": 5,
   "metadata": {},
   "outputs": [],
   "source": [
    "total_neg = len(negative_image_paths)\n",
    "total_pos = len(positive_image_paths)"
   ]
  },
  {
   "cell_type": "code",
   "execution_count": 6,
   "metadata": {},
   "outputs": [
    {
     "data": {
      "text/plain": [
       "67"
      ]
     },
     "execution_count": 6,
     "metadata": {},
     "output_type": "execute_result"
    }
   ],
   "source": [
    "total_neg"
   ]
  },
  {
   "cell_type": "code",
   "execution_count": 7,
   "metadata": {},
   "outputs": [
    {
     "data": {
      "text/plain": [
       "94"
      ]
     },
     "execution_count": 7,
     "metadata": {},
     "output_type": "execute_result"
    }
   ],
   "source": [
    "total_pos"
   ]
  },
  {
   "cell_type": "code",
   "execution_count": 9,
   "metadata": {},
   "outputs": [
    {
     "data": {
      "text/plain": [
       "161"
      ]
     },
     "execution_count": 9,
     "metadata": {},
     "output_type": "execute_result"
    }
   ],
   "source": [
    "(total_neg + total_pos)"
   ]
  }
 ],
 "metadata": {
  "kernelspec": {
   "display_name": "Python 3",
   "language": "python",
   "name": "python3"
  },
  "language_info": {
   "codemirror_mode": {
    "name": "ipython",
    "version": 3
   },
   "file_extension": ".py",
   "mimetype": "text/x-python",
   "name": "python",
   "nbconvert_exporter": "python",
   "pygments_lexer": "ipython3",
   "version": "3.8.3"
  }
 },
 "nbformat": 4,
 "nbformat_minor": 4
}
