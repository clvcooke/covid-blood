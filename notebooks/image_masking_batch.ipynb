{
 "cells": [
  {
   "cell_type": "code",
   "execution_count": 34,
   "metadata": {},
   "outputs": [],
   "source": [
    "import numpy as np\n",
    "import cv2 as cv\n",
    "import matplotlib.pyplot as plt\n",
    "from tqdm.notebook import tqdm\n",
    "import glob\n",
    "import os"
   ]
  },
  {
   "cell_type": "code",
   "execution_count": 17,
   "metadata": {},
   "outputs": [],
   "source": [
    "mask_dir = '/hddraid5/data/colin/covid-data/aug_24/COVID Research Images WBC Mask/'\n",
    "cell_dir = '/hddraid5/data/colin/covid-data/aug_24/COVID Research Images/'\n",
    "masked_dir = '/hddraid5/data/colin/covid-data/aug_24/Masked Images'"
   ]
  },
  {
   "cell_type": "code",
   "execution_count": 48,
   "metadata": {},
   "outputs": [],
   "source": [
    "os.makedirs(masked_dir)"
   ]
  },
  {
   "cell_type": "code",
   "execution_count": 19,
   "metadata": {},
   "outputs": [],
   "source": [
    "def get_relpath(filepath):\n",
    "    return filepath[len(cell_dir):]"
   ]
  },
  {
   "cell_type": "code",
   "execution_count": 25,
   "metadata": {},
   "outputs": [],
   "source": [
    "all_mask_files = sorted(glob.glob(os.path.join(mask_dir, '**', '*.jpg'), recursive=True))\n",
    "all_cell_files = sorted(glob.glob(os.path.join(cell_dir, '**', '*.jpg'), recursive=True))"
   ]
  },
  {
   "cell_type": "code",
   "execution_count": 61,
   "metadata": {},
   "outputs": [
    {
     "data": {
      "application/vnd.jupyter.widget-view+json": {
       "model_id": "f870515efaca41ee926972c3de0df19d",
       "version_major": 2,
       "version_minor": 0
      },
      "text/plain": [
       "HBox(children=(FloatProgress(value=0.0, max=25380.0), HTML(value='')))"
      ]
     },
     "metadata": {},
     "output_type": "display_data"
    },
    {
     "name": "stdout",
     "output_type": "stream",
     "text": [
      "\n"
     ]
    }
   ],
   "source": [
    "counter = 0\n",
    "pos = 16694\n",
    "for cell_file, mask_file in tqdm(zip(all_cell_files[pos:], all_mask_files[pos:]),total=len(all_cell_files) - pos):\n",
    "    cell_image = cv.imread(cell_file)\n",
    "    mask_image = cv.imread(mask_file)\n",
    "    masked_image = np.bitwise_and(cell_image, 255 - mask_image)\n",
    "    relpath = get_relpath(cell_file)\n",
    "    masked_path = os.path.join(masked_dir, relpath)\n",
    "    os.makedirs(os.path.dirname(masked_path), exist_ok=True)\n",
    "    assert not os.path.exists(masked_path)\n",
    "    cv.imwrite(masked_path, masked_image)"
   ]
  }
 ],
 "metadata": {
  "kernelspec": {
   "display_name": "Python 3",
   "language": "python",
   "name": "python3"
  },
  "language_info": {
   "codemirror_mode": {
    "name": "ipython",
    "version": 3
   },
   "file_extension": ".py",
   "mimetype": "text/x-python",
   "name": "python",
   "nbconvert_exporter": "python",
   "pygments_lexer": "ipython3",
   "version": "3.8.5"
  }
 },
 "nbformat": 4,
 "nbformat_minor": 4
}
