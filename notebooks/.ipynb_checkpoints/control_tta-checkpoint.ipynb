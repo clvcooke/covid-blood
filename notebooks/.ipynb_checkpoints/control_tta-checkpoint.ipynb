{
 "cells": [
  {
   "cell_type": "code",
   "execution_count": 12,
   "metadata": {},
   "outputs": [],
   "source": [
    "from sklearn.metrics import roc_auc_score, roc_curve\n",
    "from sklearn.metrics import auc as auc_score\n",
    "import numpy as np\n",
    "import matplotlib.pyplot as plt\n",
    "import json\n",
    "import os\n",
    "import glob\n",
    "\n",
    "from sklearn.cluster import DBSCAN\n",
    "from sklearn.metrics import recall_score\n",
    "from sklearn.metrics import plot_roc_curve\n",
    "from sklearn.ensemble import RandomForestClassifier, AdaBoostClassifier\n",
    "\n",
    "from sklearn.svm import SVC\n",
    "\n",
    "from natsort import natsorted\n",
    "from sklearn.naive_bayes import GaussianNB\n",
    "from sklearn.gaussian_process.kernels import RBF\n",
    "from sklearn.neural_network import MLPClassifier\n",
    "import PIL\n",
    "from scipy import stats\n",
    "import seaborn as sns\n",
    "import matplotlib.patches as mpatches"
   ]
  },
  {
   "cell_type": "code",
   "execution_count": 42,
   "metadata": {},
   "outputs": [],
   "source": [
    "control_exclusion = [\n",
    "    \"10050819999\",\n",
    "    \"10050936144\",\n",
    "    \"10051030838\",\n",
    "    \"10051031452\",\n",
    "    \"10051045136\",\n",
    "    \"10051055184\",\n",
    "    \"10051065979\",\n",
    "    \"10051182007\",\n",
    "    \"10051195311\",\n",
    "    \"10051195937\"]"
   ]
  },
  {
   "cell_type": "code",
   "execution_count": 44,
   "metadata": {},
   "outputs": [],
   "source": [
    "pos = sum([values['label'] for values in normal_data.values()])"
   ]
  },
  {
   "cell_type": "code",
   "execution_count": 46,
   "metadata": {},
   "outputs": [],
   "source": [
    "sizes = [len(values['predictions']) for values in normal_data.values()]"
   ]
  },
  {
   "cell_type": "code",
   "execution_count": null,
   "metadata": {},
   "outputs": [],
   "source": []
  },
  {
   "cell_type": "code",
   "execution_count": 33,
   "metadata": {},
   "outputs": [],
   "source": [
    "model_ids =['3bcnioqn',\n",
    "        '3dzierwk',\n",
    "        '1629vjqj',\n",
    "        '29tpkvfa',\n",
    "        '29psm43i',\n",
    "        '3cqyqz7j']\n",
    "normal_files, tta_files = [], []\n",
    "normal_rocs = []\n",
    "tta_rocs = []\n",
    "for fold_number, model_id in enumerate(model_ids):\n",
    "    normal_file = f'/home/colin/results_cov/covid_class_{model_id}_fold_{fold_number}.json'\n",
    "    tta_file_set = glob.glob(f'/home/colin/results_cov/*{model_id}*fold_{fold_number}_TTA*.json')\n",
    "    normal_files.append(normal_file)\n",
    "    tta_files.append(tta_file_set)\n",
    "    tta_unif_data = {}\n",
    "    for tta_file in tta_file_set:\n",
    "        with open(tta_file) as fp:\n",
    "            tta_data = json.load(fp)\n",
    "        for order, values in tta_data.items():\n",
    "            if order not in tta_unif_data:\n",
    "                tta_unif_data[order] = {\n",
    "                    'predictions': [],\n",
    "                    'label': values['label']\n",
    "                }\n",
    "            tta_unif_data[order]['predictions'] += values['predictions']\n",
    "    with open(normal_file) as fp:\n",
    "        normal_data = json.load(fp)\n",
    "    normal_preds = [np.median(values['predictions']) for values in normal_data.values()]\n",
    "    normal_labels = [values['label'] for values in normal_data.values()]\n",
    "    tta_preds = [np.median(values['predictions']) for values in tta_unif_data.values()]\n",
    "    tta_labels = [values['label'] for values in tta_unif_data.values()]\n",
    "    normal_roc = roc_auc_score(normal_labels, normal_preds)\n",
    "    tta_roc = roc_auc_score(tta_labels, tta_preds)\n",
    "    normal_rocs.append(normal_roc)\n",
    "    tta_rocs.append(tta_roc)"
   ]
  },
  {
   "cell_type": "code",
   "execution_count": 41,
   "metadata": {},
   "outputs": [
    {
     "data": {
      "text/plain": [
       "{'predictions': [0.27048808336257935, 0.385660320520401],\n",
       " 'label': 0,\n",
       " 'files': ['MO_281804.jpg', 'MO_281775.jpg']}"
      ]
     },
     "execution_count": 41,
     "metadata": {},
     "output_type": "execute_result"
    }
   ],
   "source": [
    "normal_data[order]"
   ]
  },
  {
   "cell_type": "code",
   "execution_count": 40,
   "metadata": {},
   "outputs": [
    {
     "data": {
      "text/plain": [
       "[0.2927841544151306,\n",
       " 0.544761061668396,\n",
       " 0.22017644345760345,\n",
       " 0.4319149851799011,\n",
       " 0.11899866908788681,\n",
       " 0.4429530203342438,\n",
       " 0.19267450273036957,\n",
       " 0.49927324056625366,\n",
       " 0.21652956306934357,\n",
       " 0.4030328392982483]"
      ]
     },
     "execution_count": 40,
     "metadata": {},
     "output_type": "execute_result"
    }
   ],
   "source": [
    "tta_unif_data[order]['predictions']"
   ]
  },
  {
   "cell_type": "code",
   "execution_count": 37,
   "metadata": {},
   "outputs": [
    {
     "data": {
      "text/plain": [
       "0.7946988196988197"
      ]
     },
     "execution_count": 37,
     "metadata": {},
     "output_type": "execute_result"
    }
   ],
   "source": [
    "np.mean(normal_rocs)"
   ]
  },
  {
   "cell_type": "code",
   "execution_count": 29,
   "metadata": {},
   "outputs": [],
   "source": []
  },
  {
   "cell_type": "code",
   "execution_count": 25,
   "metadata": {},
   "outputs": [
    {
     "data": {
      "text/plain": [
       "dict_keys(['control_predictions', 'control_label', 'control_files'])"
      ]
     },
     "execution_count": 25,
     "metadata": {},
     "output_type": "execute_result"
    }
   ],
   "source": [
    "values.keys()"
   ]
  },
  {
   "cell_type": "code",
   "execution_count": 19,
   "metadata": {},
   "outputs": [],
   "source": []
  },
  {
   "cell_type": "code",
   "execution_count": 20,
   "metadata": {},
   "outputs": [
    {
     "data": {
      "text/plain": [
       "0.746031746031746"
      ]
     },
     "execution_count": 20,
     "metadata": {},
     "output_type": "execute_result"
    }
   ],
   "source": [
    "normal_roc"
   ]
  }
 ],
 "metadata": {
  "kernelspec": {
   "display_name": "Python 3",
   "language": "python",
   "name": "python3"
  },
  "language_info": {
   "codemirror_mode": {
    "name": "ipython",
    "version": 3
   },
   "file_extension": ".py",
   "mimetype": "text/x-python",
   "name": "python",
   "nbconvert_exporter": "python",
   "pygments_lexer": "ipython3",
   "version": "3.8.3"
  }
 },
 "nbformat": 4,
 "nbformat_minor": 4
}
