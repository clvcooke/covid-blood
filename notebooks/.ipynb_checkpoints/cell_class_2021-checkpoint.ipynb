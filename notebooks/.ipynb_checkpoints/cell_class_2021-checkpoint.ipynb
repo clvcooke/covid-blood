{
 "cells": [
  {
   "cell_type": "code",
   "execution_count": 1,
   "id": "empirical-crazy",
   "metadata": {},
   "outputs": [],
   "source": [
    "import numpy as np\n",
    "import matplotlib.pyplot as plt\n",
    "import json\n",
    "import json\n",
    "import os\n",
    "import pandas as pd\n",
    "import seaborn as sns\n",
    "import glob\n",
    "from natsort import natsorted\n",
    "from scipy import stats\n",
    "from sklearn.metrics import recall_score\n",
    "from sklearn.metrics import auc as auc_score\n",
    "from sklearn.metrics import roc_auc_score, roc_curve\n",
    "sns.set(style=\"whitegrid\")\n",
    "import matplotlib as mpl\n",
    "import torch\n",
    "import torch.nn.functional as F\n",
    "from sklearn.metrics import roc_auc_score\n",
    "from matplotlib.ticker import PercentFormatter\n"
   ]
  },
  {
   "cell_type": "code",
   "execution_count": 4,
   "id": "restricted-disabled",
   "metadata": {},
   "outputs": [],
   "source": [
    "import sys\n",
    "sys.path.append('/home/colin/covid-blood/')\n",
    "from config import get_config\n",
    "from torchvision import transforms\n",
    "from utils import setup_torch, get_covid_transforms, load_model\n",
    "import wandb\n",
    "from dataloader import load_all_patients, load_pbc_data\n",
    "from models.imagenet import get_model\n",
    "from models.multi_instance import AttentionModel, GatedAttentionModel, SimpleMIL\n",
    "from mil_trainer import ClassificationTrainer\n",
    "from torch import optim\n",
    "import warnings\n",
    "from tqdm import tqdm\n",
    "import json"
   ]
  },
  {
   "cell_type": "code",
   "execution_count": 6,
   "id": "understood-region",
   "metadata": {},
   "outputs": [],
   "source": [
    "setup_torch(0, 1, 3)"
   ]
  },
  {
   "cell_type": "code",
   "execution_count": 7,
   "id": "russian-sheep",
   "metadata": {},
   "outputs": [],
   "source": [
    "cell_types = ['basophil', 'eosinophil', 'erythroblast', 'garbage', 'ig', 'lymphocyte', 'monocyte', 'neutrophil', 'platelet']\n",
    "wbc_model = get_model('resnet50', len(cell_types), True).cuda()\n",
    "wbc_model = load_model(wbc_model, '/home/colin/wbc_model_2021.pth').cuda()"
   ]
  },
  {
   "cell_type": "code",
   "execution_count": 9,
   "id": "dramatic-arkansas",
   "metadata": {},
   "outputs": [
    {
     "name": "stderr",
     "output_type": "stream",
     "text": [
      "156it [00:00, 6060.52it/s]\n",
      "39it [00:00, 3059.70it/s]\n",
      "39it [00:00, 3865.17it/s]"
     ]
    },
    {
     "name": "stdout",
     "output_type": "stream",
     "text": [
      "0.5 blank\n",
      "reading cache\n"
     ]
    },
    {
     "name": "stderr",
     "output_type": "stream",
     "text": [
      "\n"
     ]
    }
   ],
   "source": [
    "data_transforms = get_covid_transforms(image_size=224, center_crop_amount=224)\n",
    "train_loader, val_loader, test_loader = load_all_patients(train_transforms=data_transforms['train'],\n",
    "                                                          test_transforms=data_transforms['val'],\n",
    "                                                          batch_size=8,\n",
    "                                                          fold_number=0,\n",
    "                                                          group_by_patient=False,\n",
    "                                                          weighted_sample=False,\n",
    "                                                          random_sample=False,\n",
    "                                                          extract_filenames=True)"
   ]
  },
  {
   "cell_type": "code",
   "execution_count": null,
   "id": "responsible-certificate",
   "metadata": {},
   "outputs": [],
   "source": [
    "# load every image\n",
    "# predict the cell type (continous)\n",
    "# save it for each order number, alongside outcome\n"
   ]
  }
 ],
 "metadata": {
  "kernelspec": {
   "display_name": "Python 3",
   "language": "python",
   "name": "python3"
  },
  "language_info": {
   "codemirror_mode": {
    "name": "ipython",
    "version": 3
   },
   "file_extension": ".py",
   "mimetype": "text/x-python",
   "name": "python",
   "nbconvert_exporter": "python",
   "pygments_lexer": "ipython3",
   "version": "3.8.5"
  }
 },
 "nbformat": 4,
 "nbformat_minor": 5
}
