{
 "cells": [
  {
   "cell_type": "code",
   "execution_count": 74,
   "id": "mounted-tender",
   "metadata": {},
   "outputs": [],
   "source": [
    "import numpy as np\n",
    "import matplotlib.pyplot as plt\n",
    "from matplotlib.colors import ListedColormap\n",
    "from sklearn.model_selection import train_test_split\n",
    "from sklearn.preprocessing import StandardScaler\n",
    "from sklearn.datasets import make_moons, make_circles, make_classification\n",
    "from sklearn.neural_network import MLPClassifier\n",
    "from sklearn.neighbors import KNeighborsClassifier\n",
    "from sklearn.svm import SVC\n",
    "from sklearn.gaussian_process import GaussianProcessClassifier\n",
    "from sklearn.gaussian_process.kernels import RBF\n",
    "from sklearn.tree import DecisionTreeClassifier\n",
    "from sklearn.ensemble import RandomForestClassifier, AdaBoostClassifier\n",
    "from sklearn.naive_bayes import GaussianNB\n",
    "from sklearn.discriminant_analysis import QuadraticDiscriminantAnalysis\n",
    "import json\n",
    "from sklearn.metrics import roc_auc_score\n",
    "from scipy.special import softmax"
   ]
  },
  {
   "cell_type": "markdown",
   "id": "subtle-graphic",
   "metadata": {},
   "source": [
    "### Loading our Data"
   ]
  },
  {
   "cell_type": "code",
   "execution_count": 4,
   "id": "enabling-lambda",
   "metadata": {},
   "outputs": [],
   "source": [
    "## Loading our data\n",
    "with open('/home/colin/wbc_data_2021.json') as fp:\n",
    "    wbc_data = json.load(fp)"
   ]
  },
  {
   "cell_type": "code",
   "execution_count": 75,
   "id": "accepted-genealogy",
   "metadata": {},
   "outputs": [],
   "source": [
    "normalized_diff_counts = {}\n",
    "for order_id, data in wbc_data.items():\n",
    "    norm_diff = np.mean([np.eye(9)[value['discrete']] for _, value in data.items()], axis=0)\n",
    "    label = list(data.values())[0]['label']\n",
    "    normalized_diff_counts[order_id] = {\n",
    "        'diff': norm_diff,\n",
    "        'label': label\n",
    "    }\n",
    "    \n",
    "normalized_diff_counts_cont = {}\n",
    "for order_id, data in wbc_data.items():\n",
    "    norm_diff = np.mean([softmax(value['continous']) for _, value in data.items()], axis=0)\n",
    "    label = list(data.values())[0]['label']\n",
    "    normalized_diff_counts_cont[order_id] = {\n",
    "        'diff': norm_diff,\n",
    "        'label': label\n",
    "    }"
   ]
  },
  {
   "cell_type": "markdown",
   "id": "resistant-hollywood",
   "metadata": {},
   "source": [
    "### Creating k-fold splits"
   ]
  },
  {
   "cell_type": "code",
   "execution_count": 15,
   "id": "modular-mitchell",
   "metadata": {},
   "outputs": [],
   "source": [
    "from sklearn.model_selection import StratifiedKFold"
   ]
  },
  {
   "cell_type": "code",
   "execution_count": 76,
   "id": "presidential-waste",
   "metadata": {},
   "outputs": [],
   "source": [
    "discrete = False\n",
    "if discrete:\n",
    "    x_data = np.array([data['diff'] for data in normalized_diff_counts.values()])\n",
    "    y_data = np.array([data['label'] for data in normalized_diff_counts.values()])\n",
    "else:\n",
    "    x_data = np.array([data['diff'] for data in normalized_diff_counts_cont.values()])\n",
    "    y_data = np.array([data['label'] for data in normalized_diff_counts_cont.values()])"
   ]
  },
  {
   "cell_type": "code",
   "execution_count": 77,
   "id": "fuzzy-visiting",
   "metadata": {},
   "outputs": [],
   "source": [
    "classifiers = [\n",
    "    SVC(kernel=\"linear\", C=0.025),\n",
    "    SVC(gamma=2, C=1),\n",
    "    GaussianProcessClassifier(1.0 * RBF(1.0)),\n",
    "    DecisionTreeClassifier(max_depth=5),\n",
    "    RandomForestClassifier(max_depth=5, n_estimators=10, max_features=1),\n",
    "    MLPClassifier(alpha=1, max_iter=1000),\n",
    "    AdaBoostClassifier(),\n",
    "    GaussianNB(),\n",
    "    QuadraticDiscriminantAnalysis()]\n",
    "\n",
    "names = [\"Linear SVM\", \"RBF SVM\", \"Gaussian Process\",\n",
    "         \"Decision Tree\", \"Random Forest\", \"Neural Net\", \"AdaBoost\",\n",
    "         \"Naive Bayes\", \"QDA\"]"
   ]
  },
  {
   "cell_type": "code",
   "execution_count": 78,
   "id": "universal-equity",
   "metadata": {},
   "outputs": [
    {
     "name": "stdout",
     "output_type": "stream",
     "text": [
      "Linear SVM\n",
      "RBF SVM\n",
      "Gaussian Process\n",
      "Decision Tree\n",
      "Random Forest\n",
      "Neural Net\n",
      "AdaBoost\n",
      "Naive Bayes\n",
      "QDA\n"
     ]
    },
    {
     "name": "stderr",
     "output_type": "stream",
     "text": [
      "/home/colin/anaconda3/envs/covid/lib/python3.8/site-packages/sklearn/discriminant_analysis.py:691: UserWarning: Variables are collinear\n",
      "  warnings.warn(\"Variables are collinear\")\n",
      "/home/colin/anaconda3/envs/covid/lib/python3.8/site-packages/sklearn/discriminant_analysis.py:691: UserWarning: Variables are collinear\n",
      "  warnings.warn(\"Variables are collinear\")\n",
      "/home/colin/anaconda3/envs/covid/lib/python3.8/site-packages/sklearn/discriminant_analysis.py:691: UserWarning: Variables are collinear\n",
      "  warnings.warn(\"Variables are collinear\")\n",
      "/home/colin/anaconda3/envs/covid/lib/python3.8/site-packages/sklearn/discriminant_analysis.py:691: UserWarning: Variables are collinear\n",
      "  warnings.warn(\"Variables are collinear\")\n",
      "/home/colin/anaconda3/envs/covid/lib/python3.8/site-packages/sklearn/discriminant_analysis.py:691: UserWarning: Variables are collinear\n",
      "  warnings.warn(\"Variables are collinear\")\n",
      "/home/colin/anaconda3/envs/covid/lib/python3.8/site-packages/sklearn/discriminant_analysis.py:691: UserWarning: Variables are collinear\n",
      "  warnings.warn(\"Variables are collinear\")\n"
     ]
    }
   ],
   "source": [
    "stats = {}\n",
    "for classifier, name in zip(classifiers, names):\n",
    "\n",
    "    folder = StratifiedKFold(n_splits=6, shuffle=True, random_state=1)\n",
    "    aucs = []\n",
    "    accs = []\n",
    "\n",
    "    for train_split, test_split in folder.split(x_data, y_data):\n",
    "        x_train = x_data[train_split]\n",
    "        y_train = y_data[train_split]\n",
    "        x_test  = x_data[test_split]\n",
    "        y_test  = y_data[test_split]\n",
    "        classifier.fit(x_train, y_train)\n",
    "        test_acc = classifier.score(x_test, y_test)\n",
    "        if name in ['Gaussian Process', \"Decision Tree\", \"Random Forest\", \"Neural Net\", \"AdaBoost\", \"Naive Bayes\",  \"QDA\"]:\n",
    "            preds = classifier.predict_proba(x_test)[:,1]\n",
    "        else:\n",
    "            preds = classifier.decision_function(x_test)\n",
    "        test_auc = roc_auc_score(y_test, preds)\n",
    "        accs.append(test_acc)\n",
    "        aucs.append(test_auc)\n",
    "    stats[name] = {\n",
    "        'accs': accs,\n",
    "        'mean_acc': np.mean(accs),\n",
    "        'aucs': aucs,\n",
    "        'mean_auc': np.mean(aucs)\n",
    "    }\n",
    "    print(name)"
   ]
  },
  {
   "cell_type": "code",
   "execution_count": 79,
   "id": "unique-optics",
   "metadata": {},
   "outputs": [
    {
     "data": {
      "text/plain": [
       "{'Linear SVM': {'accs': [0.5128205128205128,\n",
       "   0.5128205128205128,\n",
       "   0.5384615384615384,\n",
       "   0.5384615384615384,\n",
       "   0.5384615384615384,\n",
       "   0.5384615384615384],\n",
       "  'mean_acc': 0.5299145299145298,\n",
       "  'aucs': [0.7710526315789474,\n",
       "   0.7736842105263158,\n",
       "   0.6111111111111112,\n",
       "   0.566137566137566,\n",
       "   0.6402116402116402,\n",
       "   0.6428571428571429],\n",
       "  'mean_auc': 0.6675090504037873},\n",
       " 'RBF SVM': {'accs': [0.7435897435897436,\n",
       "   0.717948717948718,\n",
       "   0.6666666666666666,\n",
       "   0.6153846153846154,\n",
       "   0.6153846153846154,\n",
       "   0.6153846153846154],\n",
       "  'mean_acc': 0.6623931623931624,\n",
       "  'aucs': [0.8447368421052632,\n",
       "   0.8157894736842105,\n",
       "   0.7037037037037037,\n",
       "   0.6349206349206349,\n",
       "   0.7936507936507937,\n",
       "   0.7248677248677248],\n",
       "  'mean_auc': 0.7529448621553884},\n",
       " 'Gaussian Process': {'accs': [0.7435897435897436,\n",
       "   0.7948717948717948,\n",
       "   0.6666666666666666,\n",
       "   0.6410256410256411,\n",
       "   0.717948717948718,\n",
       "   0.7435897435897436],\n",
       "  'mean_acc': 0.717948717948718,\n",
       "  'aucs': [0.8710526315789474,\n",
       "   0.8789473684210526,\n",
       "   0.8015873015873015,\n",
       "   0.6904761904761905,\n",
       "   0.8042328042328042,\n",
       "   0.798941798941799],\n",
       "  'mean_auc': 0.8075396825396824},\n",
       " 'Decision Tree': {'accs': [0.5641025641025641,\n",
       "   0.5384615384615384,\n",
       "   0.5384615384615384,\n",
       "   0.5897435897435898,\n",
       "   0.6153846153846154,\n",
       "   0.5897435897435898],\n",
       "  'mean_acc': 0.5726495726495727,\n",
       "  'aucs': [0.6000000000000001,\n",
       "   0.5842105263157895,\n",
       "   0.626984126984127,\n",
       "   0.6362433862433862,\n",
       "   0.6375661375661377,\n",
       "   0.58994708994709],\n",
       "  'mean_auc': 0.6124918778427552},\n",
       " 'Random Forest': {'accs': [0.6153846153846154,\n",
       "   0.6666666666666666,\n",
       "   0.5897435897435898,\n",
       "   0.717948717948718,\n",
       "   0.6153846153846154,\n",
       "   0.7692307692307693],\n",
       "  'mean_acc': 0.6623931623931624,\n",
       "  'aucs': [0.6789473684210526,\n",
       "   0.7421052631578947,\n",
       "   0.7089947089947088,\n",
       "   0.7433862433862434,\n",
       "   0.6613756613756614,\n",
       "   0.7645502645502645],\n",
       "  'mean_auc': 0.7165599183143042},\n",
       " 'Neural Net': {'accs': [0.7692307692307693,\n",
       "   0.6923076923076923,\n",
       "   0.7435897435897436,\n",
       "   0.6410256410256411,\n",
       "   0.6666666666666666,\n",
       "   0.6923076923076923],\n",
       "  'mean_acc': 0.7008547008547009,\n",
       "  'aucs': [0.8236842105263157,\n",
       "   0.8605263157894737,\n",
       "   0.7142857142857143,\n",
       "   0.6058201058201058,\n",
       "   0.7116402116402116,\n",
       "   0.6931216931216931],\n",
       "  'mean_auc': 0.7348463751972525},\n",
       " 'AdaBoost': {'accs': [0.6153846153846154,\n",
       "   0.7692307692307693,\n",
       "   0.6410256410256411,\n",
       "   0.6153846153846154,\n",
       "   0.6666666666666666,\n",
       "   0.717948717948718],\n",
       "  'mean_acc': 0.6709401709401709,\n",
       "  'aucs': [0.6,\n",
       "   0.8210526315789474,\n",
       "   0.716931216931217,\n",
       "   0.5978835978835979,\n",
       "   0.6931216931216931,\n",
       "   0.693121693121693],\n",
       "  'mean_auc': 0.6870184721061915},\n",
       " 'Naive Bayes': {'accs': [0.7435897435897436,\n",
       "   0.717948717948718,\n",
       "   0.6666666666666666,\n",
       "   0.6923076923076923,\n",
       "   0.6410256410256411,\n",
       "   0.6153846153846154],\n",
       "  'mean_acc': 0.6794871794871794,\n",
       "  'aucs': [0.8184210526315789,\n",
       "   0.8394736842105263,\n",
       "   0.7275132275132274,\n",
       "   0.664021164021164,\n",
       "   0.8386243386243386,\n",
       "   0.7010582010582009],\n",
       "  'mean_auc': 0.7648519446765061},\n",
       " 'QDA': {'accs': [0.7435897435897436,\n",
       "   0.6923076923076923,\n",
       "   0.6153846153846154,\n",
       "   0.6410256410256411,\n",
       "   0.6153846153846154,\n",
       "   0.6666666666666666],\n",
       "  'mean_acc': 0.6623931623931624,\n",
       "  'aucs': [0.8236842105263158,\n",
       "   0.9236842105263158,\n",
       "   0.6428571428571428,\n",
       "   0.6216931216931216,\n",
       "   0.611111111111111,\n",
       "   0.6904761904761905],\n",
       "  'mean_auc': 0.7189176645316996}}"
      ]
     },
     "execution_count": 79,
     "metadata": {},
     "output_type": "execute_result"
    }
   ],
   "source": [
    "stats"
   ]
  },
  {
   "cell_type": "code",
   "execution_count": 73,
   "id": "conservative-appointment",
   "metadata": {},
   "outputs": [
    {
     "data": {
      "text/plain": [
       "{'Linear SVM': {'accs': [0.5897435897435898,\n",
       "   0.8717948717948718,\n",
       "   0.6923076923076923,\n",
       "   0.717948717948718,\n",
       "   0.6923076923076923,\n",
       "   0.6923076923076923],\n",
       "  'mean_acc': 0.7094017094017095,\n",
       "  'aucs': [0.7421052631578947,\n",
       "   0.9578947368421052,\n",
       "   0.7566137566137566,\n",
       "   0.8306878306878307,\n",
       "   0.8359788359788359,\n",
       "   0.7671957671957672],\n",
       "  'mean_auc': 0.8150793650793652},\n",
       " 'RBF SVM': {'accs': [0.717948717948718,\n",
       "   0.7948717948717948,\n",
       "   0.6923076923076923,\n",
       "   0.6666666666666666,\n",
       "   0.6666666666666666,\n",
       "   0.7435897435897436],\n",
       "  'mean_acc': 0.7136752136752137,\n",
       "  'aucs': [0.7052631578947369,\n",
       "   0.8236842105263158,\n",
       "   0.6772486772486772,\n",
       "   0.7777777777777778,\n",
       "   0.664021164021164,\n",
       "   0.7486772486772487],\n",
       "  'mean_auc': 0.73277870602432},\n",
       " 'Gaussian Process': {'accs': [0.6923076923076923,\n",
       "   0.9487179487179487,\n",
       "   0.7435897435897436,\n",
       "   0.717948717948718,\n",
       "   0.7948717948717948,\n",
       "   0.6923076923076923],\n",
       "  'mean_acc': 0.7649572649572649,\n",
       "  'aucs': [0.7605263157894737,\n",
       "   0.9447368421052631,\n",
       "   0.7777777777777778,\n",
       "   0.8333333333333333,\n",
       "   0.8095238095238095,\n",
       "   0.7645502645502645],\n",
       "  'mean_auc': 0.8150747238466535},\n",
       " 'Decision Tree': {'accs': [0.5897435897435898,\n",
       "   0.6923076923076923,\n",
       "   0.6410256410256411,\n",
       "   0.6153846153846154,\n",
       "   0.6923076923076923,\n",
       "   0.6153846153846154],\n",
       "  'mean_acc': 0.6410256410256411,\n",
       "  'aucs': [0.5513157894736842,\n",
       "   0.7526315789473684,\n",
       "   0.5661375661375662,\n",
       "   0.6150793650793651,\n",
       "   0.746031746031746,\n",
       "   0.6203703703703703],\n",
       "  'mean_auc': 0.6419277360066834},\n",
       " 'Random Forest': {'accs': [0.6153846153846154,\n",
       "   0.7948717948717948,\n",
       "   0.6923076923076923,\n",
       "   0.6666666666666666,\n",
       "   0.6153846153846154,\n",
       "   0.6153846153846154],\n",
       "  'mean_acc': 0.6666666666666666,\n",
       "  'aucs': [0.7447368421052631,\n",
       "   0.8263157894736842,\n",
       "   0.7354497354497354,\n",
       "   0.7592592592592592,\n",
       "   0.775132275132275,\n",
       "   0.6481481481481481],\n",
       "  'mean_auc': 0.7481736749280609},\n",
       " 'Neural Net': {'accs': [0.5897435897435898,\n",
       "   0.8461538461538461,\n",
       "   0.717948717948718,\n",
       "   0.717948717948718,\n",
       "   0.7948717948717948,\n",
       "   0.6923076923076923],\n",
       "  'mean_acc': 0.7264957264957265,\n",
       "  'aucs': [0.7657894736842106,\n",
       "   0.9131578947368422,\n",
       "   0.7671957671957672,\n",
       "   0.8095238095238095,\n",
       "   0.8015873015873016,\n",
       "   0.746031746031746],\n",
       "  'mean_auc': 0.8005476654599462},\n",
       " 'AdaBoost': {'accs': [0.5897435897435898,\n",
       "   0.7948717948717948,\n",
       "   0.6666666666666666,\n",
       "   0.6153846153846154,\n",
       "   0.6923076923076923,\n",
       "   0.717948717948718],\n",
       "  'mean_acc': 0.6794871794871794,\n",
       "  'aucs': [0.6473684210526316,\n",
       "   0.8078947368421052,\n",
       "   0.7248677248677249,\n",
       "   0.746031746031746,\n",
       "   0.7116402116402116,\n",
       "   0.7566137566137565],\n",
       "  'mean_auc': 0.732402766174696},\n",
       " 'Naive Bayes': {'accs': [0.6666666666666666,\n",
       "   0.8205128205128205,\n",
       "   0.6666666666666666,\n",
       "   0.6666666666666666,\n",
       "   0.717948717948718,\n",
       "   0.717948717948718],\n",
       "  'mean_acc': 0.7094017094017094,\n",
       "  'aucs': [0.7842105263157895,\n",
       "   0.9210526315789473,\n",
       "   0.753968253968254,\n",
       "   0.8783068783068783,\n",
       "   0.82010582010582,\n",
       "   0.7142857142857144],\n",
       "  'mean_auc': 0.8119883040935671},\n",
       " 'QDA': {'accs': [0.7435897435897436,\n",
       "   0.7435897435897436,\n",
       "   0.6410256410256411,\n",
       "   0.6923076923076923,\n",
       "   0.6153846153846154,\n",
       "   0.6923076923076923],\n",
       "  'mean_acc': 0.6880341880341879,\n",
       "  'aucs': [0.7947368421052632,\n",
       "   0.8868421052631579,\n",
       "   0.738095238095238,\n",
       "   0.82010582010582,\n",
       "   0.6957671957671957,\n",
       "   0.6878306878306879],\n",
       "  'mean_auc': 0.7705629815278939}}"
      ]
     },
     "execution_count": 73,
     "metadata": {},
     "output_type": "execute_result"
    }
   ],
   "source": [
    "stats"
   ]
  },
  {
   "cell_type": "code",
   "execution_count": 66,
   "id": "proprietary-mortgage",
   "metadata": {},
   "outputs": [
    {
     "data": {
      "text/plain": [
       "{'Linear SVM': {'accs': [0.5128205128205128,\n",
       "   0.5128205128205128,\n",
       "   0.5384615384615384,\n",
       "   0.5384615384615384,\n",
       "   0.5384615384615384,\n",
       "   0.5384615384615384],\n",
       "  'mean_acc': 0.5299145299145298,\n",
       "  'aucs': [0.7315789473684211,\n",
       "   0.7157894736842105,\n",
       "   0.6137566137566137,\n",
       "   0.5555555555555556,\n",
       "   0.6296296296296295,\n",
       "   0.6587301587301587],\n",
       "  'mean_auc': 0.6508400631207649},\n",
       " 'RBF SVM': {'accs': [0.7435897435897436,\n",
       "   0.6666666666666666,\n",
       "   0.6666666666666666,\n",
       "   0.6153846153846154,\n",
       "   0.6410256410256411,\n",
       "   0.6153846153846154],\n",
       "  'mean_acc': 0.6581196581196581,\n",
       "  'aucs': [0.7947368421052631,\n",
       "   0.768421052631579,\n",
       "   0.6984126984126984,\n",
       "   0.5873015873015873,\n",
       "   0.7486772486772486,\n",
       "   0.7328042328042328],\n",
       "  'mean_auc': 0.7217256103221015},\n",
       " 'Gaussian Process': {'accs': [0.7948717948717948,\n",
       "   0.6923076923076923,\n",
       "   0.7692307692307693,\n",
       "   0.6153846153846154,\n",
       "   0.7435897435897436,\n",
       "   0.6923076923076923],\n",
       "  'mean_acc': 0.717948717948718,\n",
       "  'aucs': [0.8657894736842106,\n",
       "   0.8289473684210527,\n",
       "   0.8121693121693122,\n",
       "   0.626984126984127,\n",
       "   0.7645502645502645,\n",
       "   0.7619047619047619],\n",
       "  'mean_auc': 0.7767242179522881},\n",
       " 'Decision Tree': {'accs': [0.5897435897435898,\n",
       "   0.5897435897435898,\n",
       "   0.6410256410256411,\n",
       "   0.5641025641025641,\n",
       "   0.5384615384615384,\n",
       "   0.6153846153846154],\n",
       "  'mean_acc': 0.5897435897435898,\n",
       "  'aucs': [0.625,\n",
       "   0.6868421052631579,\n",
       "   0.7420634920634921,\n",
       "   0.6071428571428572,\n",
       "   0.5727513227513228,\n",
       "   0.656084656084656],\n",
       "  'mean_auc': 0.648314072217581},\n",
       " 'Random Forest': {'accs': [0.6410256410256411,\n",
       "   0.6923076923076923,\n",
       "   0.5897435897435898,\n",
       "   0.6666666666666666,\n",
       "   0.6410256410256411,\n",
       "   0.6410256410256411],\n",
       "  'mean_acc': 0.6452991452991453,\n",
       "  'aucs': [0.7605263157894737,\n",
       "   0.7131578947368421,\n",
       "   0.7314814814814815,\n",
       "   0.6904761904761905,\n",
       "   0.6957671957671958,\n",
       "   0.6613756613756613],\n",
       "  'mean_auc': 0.708797456604474},\n",
       " 'Neural Net': {'accs': [0.717948717948718,\n",
       "   0.6666666666666666,\n",
       "   0.717948717948718,\n",
       "   0.5897435897435898,\n",
       "   0.6666666666666666,\n",
       "   0.6923076923076923],\n",
       "  'mean_acc': 0.6752136752136751,\n",
       "  'aucs': [0.7947368421052632,\n",
       "   0.8026315789473684,\n",
       "   0.7116402116402116,\n",
       "   0.5661375661375662,\n",
       "   0.7275132275132274,\n",
       "   0.6798941798941798],\n",
       "  'mean_auc': 0.7137589343729694},\n",
       " 'AdaBoost': {'accs': [0.5641025641025641,\n",
       "   0.6410256410256411,\n",
       "   0.717948717948718,\n",
       "   0.6666666666666666,\n",
       "   0.6666666666666666,\n",
       "   0.6153846153846154],\n",
       "  'mean_acc': 0.6452991452991453,\n",
       "  'aucs': [0.6815789473684211,\n",
       "   0.6789473684210526,\n",
       "   0.6984126984126984,\n",
       "   0.6825396825396826,\n",
       "   0.7513227513227514,\n",
       "   0.6507936507936508],\n",
       "  'mean_auc': 0.690599183143043},\n",
       " 'Naive Bayes': {'accs': [0.7692307692307693,\n",
       "   0.6666666666666666,\n",
       "   0.6666666666666666,\n",
       "   0.6410256410256411,\n",
       "   0.6923076923076923,\n",
       "   0.5897435897435898],\n",
       "  'mean_acc': 0.6709401709401709,\n",
       "  'aucs': [0.8263157894736842,\n",
       "   0.7605263157894737,\n",
       "   0.7645502645502645,\n",
       "   0.6772486772486772,\n",
       "   0.7698412698412698,\n",
       "   0.6031746031746031],\n",
       "  'mean_auc': 0.7336094866796622},\n",
       " 'QDA': {'accs': [0.6666666666666666,\n",
       "   0.7435897435897436,\n",
       "   0.6410256410256411,\n",
       "   0.7692307692307693,\n",
       "   0.6410256410256411,\n",
       "   0.5384615384615384],\n",
       "  'mean_acc': 0.6666666666666666,\n",
       "  'aucs': [0.8,\n",
       "   0.8631578947368421,\n",
       "   0.7142857142857143,\n",
       "   0.783068783068783,\n",
       "   0.7275132275132276,\n",
       "   0.6296296296296295],\n",
       "  'mean_auc': 0.7529425415390327}}"
      ]
     },
     "execution_count": 66,
     "metadata": {},
     "output_type": "execute_result"
    }
   ],
   "source": [
    "stats"
   ]
  },
  {
   "cell_type": "code",
   "execution_count": null,
   "id": "sensitive-poetry",
   "metadata": {},
   "outputs": [],
   "source": []
  },
  {
   "cell_type": "code",
   "execution_count": 42,
   "id": "private-chess",
   "metadata": {},
   "outputs": [
    {
     "data": {
      "text/plain": [
       "KNeighborsClassifier(algorithm='auto', leaf_size=30, metric='minkowski',\n",
       "                     metric_params=None, n_jobs=None, n_neighbors=3, p=2,\n",
       "                     weights='uniform')"
      ]
     },
     "execution_count": 42,
     "metadata": {},
     "output_type": "execute_result"
    }
   ],
   "source": [
    "classifier."
   ]
  },
  {
   "cell_type": "code",
   "execution_count": 36,
   "id": "unique-transportation",
   "metadata": {},
   "outputs": [
    {
     "data": {
      "text/plain": [
       "0.6581196581196581"
      ]
     },
     "execution_count": 36,
     "metadata": {},
     "output_type": "execute_result"
    }
   ],
   "source": [
    "np.mean(accs)"
   ]
  },
  {
   "cell_type": "code",
   "execution_count": 37,
   "id": "severe-terminal",
   "metadata": {},
   "outputs": [
    {
     "data": {
      "text/plain": [
       "0.7217256103221015"
      ]
     },
     "execution_count": 37,
     "metadata": {},
     "output_type": "execute_result"
    }
   ],
   "source": [
    "np.mean(aucs)"
   ]
  },
  {
   "cell_type": "code",
   "execution_count": null,
   "id": "adjustable-organization",
   "metadata": {},
   "outputs": [],
   "source": []
  },
  {
   "cell_type": "code",
   "execution_count": 32,
   "id": "romance-vegetable",
   "metadata": {},
   "outputs": [
    {
     "data": {
      "text/plain": [
       "0.7947368421052631"
      ]
     },
     "execution_count": 32,
     "metadata": {},
     "output_type": "execute_result"
    }
   ],
   "source": []
  },
  {
   "cell_type": "code",
   "execution_count": 26,
   "id": "alive-composition",
   "metadata": {},
   "outputs": [
    {
     "data": {
      "text/plain": [
       "array([ 0.8386783 ,  1.2551983 ,  0.74524375,  0.80074106,  0.64063606,\n",
       "        0.60723565,  0.76313235,  1.2668413 , -0.38123883,  1.27054067,\n",
       "        0.59130328,  1.01130377,  0.52817078,  0.69674998,  0.7252097 ,\n",
       "       -1.03380609,  0.90316381, -1.10123188, -0.73089965,  0.82258331,\n",
       "        0.94020794,  0.80325237,  1.26169926,  0.2431773 ,  1.00280836,\n",
       "        0.1503732 ,  0.45508818, -1.1919378 ,  0.96311038, -0.79684875,\n",
       "       -1.14048102,  0.85524406, -0.51163491,  0.49241312, -1.37375542,\n",
       "        1.08652685,  0.66493067, -1.25669196, -1.3562428 ])"
      ]
     },
     "execution_count": 26,
     "metadata": {},
     "output_type": "execute_result"
    }
   ],
   "source": [
    "classifier.decision_function(x_test)"
   ]
  },
  {
   "cell_type": "code",
   "execution_count": 28,
   "id": "powerful-platform",
   "metadata": {},
   "outputs": [
    {
     "data": {
      "text/plain": [
       "array([1, 1, 1, 1, 1, 1, 1, 1, 0, 1, 1, 1, 1, 1, 1, 0, 1, 0, 0, 1, 1, 1,\n",
       "       1, 1, 1, 1, 1, 0, 1, 0, 0, 1, 0, 1, 0, 1, 1, 0, 0])"
      ]
     },
     "execution_count": 28,
     "metadata": {},
     "output_type": "execute_result"
    }
   ],
   "source": [
    "classifier.predict(x_test)"
   ]
  }
 ],
 "metadata": {
  "kernelspec": {
   "display_name": "Python 3",
   "language": "python",
   "name": "python3"
  },
  "language_info": {
   "codemirror_mode": {
    "name": "ipython",
    "version": 3
   },
   "file_extension": ".py",
   "mimetype": "text/x-python",
   "name": "python",
   "nbconvert_exporter": "python",
   "pygments_lexer": "ipython3",
   "version": "3.8.5"
  }
 },
 "nbformat": 4,
 "nbformat_minor": 5
}
