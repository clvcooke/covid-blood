{
 "cells": [
  {
   "cell_type": "code",
   "execution_count": 1,
   "metadata": {},
   "outputs": [],
   "source": [
    "import json\n",
    "import glob\n",
    "# some_file.py\n",
    "import sys\n",
    "# insert at 1, 0 is the script path (or '' in REPL)\n",
    "sys.path.insert(1, '/home/colin/covid-blood/')\n",
    "import dataloader"
   ]
  },
  {
   "cell_type": "code",
   "execution_count": 2,
   "metadata": {},
   "outputs": [
    {
     "name": "stderr",
     "output_type": "stream",
     "text": [
      "reading excel files: 100%|██████████| 3382/3382 [00:33<00:00, 100.47it/s]"
     ]
    },
    {
     "name": "stdout",
     "output_type": "stream",
     "text": [
      "Data Stats:\n",
      "          - 110 negative patients, 124 positive_patients -- 0.5299145299145299 positive pat. fraction\n",
      "          - 13967 negative cells, 17403 positive_cells -- 0.5547656997131016 positive cell fraction\n"
     ]
    },
    {
     "name": "stderr",
     "output_type": "stream",
     "text": [
      "\n"
     ]
    }
   ],
   "source": [
    "negative_image_paths, positive_image_paths, all_image_paths = dataloader.get_patient_orders()"
   ]
  },
  {
   "cell_type": "code",
   "execution_count": 3,
   "metadata": {},
   "outputs": [],
   "source": [
    "negative_orders = list(negative_image_paths.keys())\n",
    "positive_orders = list(positive_image_paths.keys())"
   ]
  },
  {
   "cell_type": "code",
   "execution_count": 4,
   "metadata": {},
   "outputs": [],
   "source": [
    "outcome_data = {}\n",
    "for neg_order in negative_orders:\n",
    "    outcome_data[neg_order] = 0\n",
    "for pos_order in positive_orders:\n",
    "    outcome_data[pos_order] = 1\n"
   ]
  },
  {
   "cell_type": "code",
   "execution_count": 10,
   "metadata": {},
   "outputs": [],
   "source": [
    "with open('/home/colin/cbc_data.json') as fp:\n",
    "    cbc_data = json.load(fp)"
   ]
  },
  {
   "cell_type": "code",
   "execution_count": 27,
   "metadata": {},
   "outputs": [],
   "source": [
    "bad_ids = {\n",
    "    '10049392723': 'No Images',\n",
    "    '10049468706': 'No Testing'\n",
    "}\n",
    "\n",
    "outcome_data['10049866464'] = 1\n",
    "outcome_data['10050183249'] = 1\n",
    "outcome_data['10050191725'] = 1\n",
    "outcome_data['10050256095'] = 1\n",
    "outcome_data['10050228701'] = 1\n",
    "outcome_data['10050283065'] = 1\n",
    "outcome_data['10050259634'] = 1\n",
    "outcome_data['10050288663'] = 1\n",
    "outcome_data['10050330950'] = 1\n",
    "outcome_data['10050367498'] = 1\n",
    "outcome_data['10050367691'] = 1\n",
    "outcome_data['10050890630'] = 1\n",
    "outcome_data['10050956238'] = 1"
   ]
  },
  {
   "cell_type": "code",
   "execution_count": 28,
   "metadata": {},
   "outputs": [],
   "source": [
    "p = 0\n",
    "n = 0\n",
    "for key in cbc_data:\n",
    "    if key in bad_ids:\n",
    "        continue\n",
    "    if key not in outcome_data:\n",
    "        print(key)\n",
    "    else:\n",
    "        outcome = outcome_data[key]\n",
    "        if outcome == 1:\n",
    "            p += 1\n",
    "        else:\n",
    "            n += 1\n",
    "        cbc_data[key]['outcome'] = outcome_data[key]"
   ]
  },
  {
   "cell_type": "code",
   "execution_count": 29,
   "metadata": {},
   "outputs": [
    {
     "data": {
      "text/plain": [
       "56"
      ]
     },
     "execution_count": 29,
     "metadata": {},
     "output_type": "execute_result"
    }
   ],
   "source": [
    "p"
   ]
  },
  {
   "cell_type": "code",
   "execution_count": 30,
   "metadata": {},
   "outputs": [
    {
     "data": {
      "text/plain": [
       "11"
      ]
     },
     "execution_count": 30,
     "metadata": {},
     "output_type": "execute_result"
    }
   ],
   "source": [
    "n"
   ]
  },
  {
   "cell_type": "code",
   "execution_count": 8,
   "metadata": {},
   "outputs": [
    {
     "data": {
      "text/plain": [
       "'10049392723'"
      ]
     },
     "execution_count": 8,
     "metadata": {},
     "output_type": "execute_result"
    }
   ],
   "source": [
    "key"
   ]
  },
  {
   "cell_type": "code",
   "execution_count": 19,
   "metadata": {},
   "outputs": [],
   "source": [
    "with open(\"outcome_by_order.json\", 'w') as fp:\n",
    "    json.dump(outcome_data, fp)"
   ]
  }
 ],
 "metadata": {
  "kernelspec": {
   "display_name": "Python 3",
   "language": "python",
   "name": "python3"
  },
  "language_info": {
   "codemirror_mode": {
    "name": "ipython",
    "version": 3
   },
   "file_extension": ".py",
   "mimetype": "text/x-python",
   "name": "python",
   "nbconvert_exporter": "python",
   "pygments_lexer": "ipython3",
   "version": "3.8.5"
  }
 },
 "nbformat": 4,
 "nbformat_minor": 4
}
